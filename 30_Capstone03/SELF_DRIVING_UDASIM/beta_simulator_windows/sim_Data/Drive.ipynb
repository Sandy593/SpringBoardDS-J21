{
 "cells": [
  {
   "cell_type": "code",
   "execution_count": 2,
   "metadata": {},
   "outputs": [],
   "source": [
    "import socketio\n",
    "import eventlet # networking library\n",
    "import numpy as np\n",
    "from flask import Flask # framework for building complex web applications.\n",
    "from keras.models import load_model\n",
    "import base64\n",
    "from io import BytesIO\n",
    "from PIL import Image\n",
    "import cv2"
   ]
  },
  {
   "cell_type": "code",
   "execution_count": null,
   "metadata": {},
   "outputs": [],
   "source": [
    "sio = socketio.Server()\n",
    " \n",
    "app = Flask(__name__) #'__main__'\n",
    "speed_limit = 10\n",
    "def img_preprocess(img):\n",
    "    img = img[60:135,:,:]\n",
    "    img = cv2.cvtColor(img, cv2.COLOR_RGB2YUV)\n",
    "    img = cv2.GaussianBlur(img,  (3, 3), 0)\n",
    "    img = cv2.resize(img, (200, 66))\n",
    "    img = img/255\n",
    "    return img\n",
    " \n",
    " \n",
    "@sio.on('telemetry')\n",
    "def telemetry(sid, data):\n",
    "    speed = float(data['speed'])\n",
    "    image = Image.open(BytesIO(base64.b64decode(data['image'])))\n",
    "    image = np.asarray(image)\n",
    "    image = img_preprocess(image)\n",
    "    image = np.array([image])\n",
    "    steering_angle = float(model.predict(image))\n",
    "    throttle = 1.0 - speed/speed_limit\n",
    "    print('{} {} {}'.format(steering_angle, throttle, speed))\n",
    "    send_control(steering_angle, throttle)\n",
    " \n",
    " \n",
    " \n",
    "@sio.on('connect')\n",
    "def connect(sid, environ):\n",
    "    print('Connected')\n",
    "    send_control(0, 0)\n",
    " \n",
    "def send_control(steering_angle, throttle):\n",
    "    sio.emit('steer', data = {\n",
    "        'steering_angle': steering_angle.__str__(),\n",
    "        'throttle': throttle.__str__()\n",
    "    })\n",
    " \n",
    " \n",
    "if __name__ == '__main__':\n",
    "    model = load_model('model.h5')\n",
    "    app = socketio.Middleware(sio, app)\n",
    "    eventlet.wsgi.server(eventlet.listen(('', 4567)), app)"
   ]
  }
 ],
 "metadata": {
  "kernelspec": {
   "display_name": "Python 3",
   "language": "python",
   "name": "python3"
  },
  "language_info": {
   "codemirror_mode": {
    "name": "ipython",
    "version": 3
   },
   "file_extension": ".py",
   "mimetype": "text/x-python",
   "name": "python",
   "nbconvert_exporter": "python",
   "pygments_lexer": "ipython3",
   "version": "3.8.5"
  }
 },
 "nbformat": 4,
 "nbformat_minor": 4
}
