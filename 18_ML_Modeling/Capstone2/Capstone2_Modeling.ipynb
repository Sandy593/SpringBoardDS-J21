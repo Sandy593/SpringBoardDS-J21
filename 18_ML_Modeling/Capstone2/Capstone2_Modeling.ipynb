{
 "cells": [
  {
   "cell_type": "code",
   "execution_count": 1,
   "metadata": {},
   "outputs": [],
   "source": [
    "%load_ext autoreload\n",
    "%autoreload 2\n",
    "\n",
    "%matplotlib inline"
   ]
  },
  {
   "cell_type": "code",
   "execution_count": 2,
   "metadata": {},
   "outputs": [],
   "source": [
    "import random\n",
    "random.seed(10)\n",
    "\n",
    "import pandas as pd\n",
    "import numpy as np\n",
    "import datetime\n",
    "import matplotlib.pyplot as plt\n",
    "import seaborn as sns\n",
    "\n",
    "from distributed import Client\n",
    "from tune import Space, Grid, Rand, RandInt, Choice\n",
    "from tune_sklearn import sk_space, suggest_sk_models, suggest_sk_models_by_cv\n",
    "\n",
    "from sklearn.linear_model import LogisticRegression\n",
    "from sklearn.ensemble import RandomForestClassifier, GradientBoostingClassifier, AdaBoostClassifier\n",
    "from xgboost import XGBClassifier\n",
    "from sklearn.svm import SVC\n",
    "\n",
    "from sklearn.metrics import roc_auc_score\n",
    "from sklearn.metrics import roc_curve, auc\n",
    "from sklearn.metrics import plot_confusion_matrix\n",
    "from sklearn.metrics import classification_report\n",
    "from sklearn.metrics import average_precision_score\n",
    "from sklearn.metrics import plot_precision_recall_curve"
   ]
  },
  {
   "cell_type": "code",
   "execution_count": 3,
   "metadata": {},
   "outputs": [
    {
     "data": {
      "application/javascript": [
       "\n",
       "require([\"codemirror/lib/codemirror\"]);\n",
       "function set(str) {\n",
       "    var obj = {}, words = str.split(\" \");\n",
       "    for (var i = 0; i < words.length; ++i) obj[words[i]] = true;\n",
       "    return obj;\n",
       "  }\n",
       "var fugue_keywords = \"fill hash rand even presort persist broadcast params process output outtransform rowcount concurrency prepartition zip print title save append parquet csv json single checkpoint weak strong deterministic yield connect sample seed take sub callback dataframe file\";\n",
       "CodeMirror.defineMIME(\"text/x-fsql\", {\n",
       "    name: \"sql\",\n",
       "    keywords: set(fugue_keywords + \" add after all alter analyze and anti archive array as asc at between bucket buckets by cache cascade case cast change clear cluster clustered codegen collection column columns comment commit compact compactions compute concatenate cost create cross cube current current_date current_timestamp database databases data dbproperties defined delete delimited deny desc describe dfs directories distinct distribute drop else end escaped except exchange exists explain export extended external false fields fileformat first following for format formatted from full function functions global grant group grouping having if ignore import in index indexes inner inpath inputformat insert intersect interval into is items join keys last lateral lazy left like limit lines list load local location lock locks logical macro map minus msck natural no not null nulls of on optimize option options or order out outer outputformat over overwrite partition partitioned partitions percent preceding principals purge range recordreader recordwriter recover reduce refresh regexp rename repair replace reset restrict revoke right rlike role roles rollback rollup row rows schema schemas select semi separated serde serdeproperties set sets show skewed sort sorted start statistics stored stratify struct table tables tablesample tblproperties temp temporary terminated then to touch transaction transactions transform true truncate unarchive unbounded uncache union unlock unset use using values view when where window with\"),\n",
       "    builtin: set(\"date datetime tinyint smallint int bigint boolean float double string binary timestamp decimal array map struct uniontype delimited serde sequencefile textfile rcfile inputformat outputformat\"),\n",
       "    atoms: set(\"false true null\"),\n",
       "    operatorChars: /^[*\\/+\\-%<>!=~&|^]/,\n",
       "    dateSQL: set(\"time\"),\n",
       "    support: set(\"ODBCdotTable doubleQuote zerolessFloat\")\n",
       "  });\n",
       "\n",
       "CodeMirror.modeInfo.push( {\n",
       "            name: \"Fugue SQL\",\n",
       "            mime: \"text/x-fsql\",\n",
       "            mode: \"sql\"\n",
       "          } );\n",
       "\n",
       "require(['notebook/js/codecell'], function(codecell) {\n",
       "    codecell.CodeCell.options_default.highlight_modes['magic_text/x-fsql'] = {'reg':[/%%fsql/]} ;\n",
       "    Jupyter.notebook.events.on('kernel_ready.Kernel', function(){\n",
       "    Jupyter.notebook.get_cells().map(function(cell){\n",
       "        if (cell.cell_type == 'code'){ cell.auto_highlight(); } }) ;\n",
       "    });\n",
       "  });\n"
      ],
      "text/plain": [
       "<IPython.core.display.Javascript object>"
      ]
     },
     "execution_count": 3,
     "metadata": {},
     "output_type": "execute_result"
    }
   ],
   "source": [
    "from fugue_notebook import setup\n",
    "setup()"
   ]
  },
  {
   "cell_type": "code",
   "execution_count": 4,
   "metadata": {},
   "outputs": [],
   "source": [
    "import warnings\n",
    "warnings.filterwarnings('ignore')"
   ]
  },
  {
   "cell_type": "markdown",
   "metadata": {},
   "source": [
    "## *Load Cleaned Data using DASK*"
   ]
  },
  {
   "cell_type": "code",
   "execution_count": 5,
   "metadata": {},
   "outputs": [],
   "source": [
    "pd.options.display.max_columns = None\n",
    "pd.options.display.max_rows = None"
   ]
  },
  {
   "cell_type": "code",
   "execution_count": 6,
   "metadata": {},
   "outputs": [
    {
     "name": "stdout",
     "output_type": "stream",
     "text": [
      "Wall time: 14 ms\n"
     ]
    }
   ],
   "source": [
    "import dask.dataframe as dd\n",
    "%time df = dd.read_csv('04_Pre_Processed.csv') "
   ]
  },
  {
   "cell_type": "code",
   "execution_count": 7,
   "metadata": {},
   "outputs": [
    {
     "data": {
      "text/html": [
       "<div>\n",
       "<style scoped>\n",
       "    .dataframe tbody tr th:only-of-type {\n",
       "        vertical-align: middle;\n",
       "    }\n",
       "\n",
       "    .dataframe tbody tr th {\n",
       "        vertical-align: top;\n",
       "    }\n",
       "\n",
       "    .dataframe thead th {\n",
       "        text-align: right;\n",
       "    }\n",
       "</style>\n",
       "<table border=\"1\" class=\"dataframe\">\n",
       "  <thead>\n",
       "    <tr style=\"text-align: right;\">\n",
       "      <th></th>\n",
       "      <th>YEAR</th>\n",
       "      <th>QUARTER</th>\n",
       "      <th>MONTH</th>\n",
       "      <th>DAY_OF_MONTH</th>\n",
       "      <th>DAY_OF_WEEK</th>\n",
       "      <th>OP_UNIQUE_CARRIER</th>\n",
       "      <th>TAIL_NUM</th>\n",
       "      <th>OP_CARRIER_FL_NUM</th>\n",
       "      <th>ORIGIN_CITY_NAME</th>\n",
       "      <th>ORIGIN_STATE_FIPS</th>\n",
       "      <th>ORIGIN_STATE_NM</th>\n",
       "      <th>ORIGIN_WAC</th>\n",
       "      <th>DEST_CITY_NAME</th>\n",
       "      <th>DEST_STATE_FIPS</th>\n",
       "      <th>DEST_STATE_NM</th>\n",
       "      <th>DEST_WAC</th>\n",
       "      <th>DEP_DEL15</th>\n",
       "      <th>CANCELLED</th>\n",
       "      <th>DIVERTED</th>\n",
       "      <th>CRS_ELAPSED_TIME</th>\n",
       "      <th>DIV_AIRPORT_LANDINGS</th>\n",
       "      <th>FLIGHT_COUNT</th>\n",
       "      <th>PRIOR_ORIGIN_CITY_NAME</th>\n",
       "      <th>PRIOR_DELAY</th>\n",
       "      <th>PRIOR_DEP_DELAY</th>\n",
       "      <th>Is_month_end</th>\n",
       "      <th>Is_month_start</th>\n",
       "      <th>Is_quarter_end</th>\n",
       "      <th>Is_quarter_start</th>\n",
       "      <th>Is_year_end</th>\n",
       "      <th>Is_year_start</th>\n",
       "      <th>BEGINING_OF_MONTH</th>\n",
       "      <th>MIDDLE_OF_MONTH</th>\n",
       "      <th>END_OF_MONTH</th>\n",
       "      <th>HOUR</th>\n",
       "      <th>MORNING</th>\n",
       "      <th>DAY</th>\n",
       "      <th>EVENING</th>\n",
       "      <th>NIGHT</th>\n",
       "      <th>WINTER</th>\n",
       "      <th>SPRING</th>\n",
       "      <th>SUMMER</th>\n",
       "      <th>AUTUMN</th>\n",
       "      <th>WEEKEND</th>\n",
       "      <th>WEEKDAY</th>\n",
       "      <th>DEPTIME_COS</th>\n",
       "      <th>DEPTIME_SIN</th>\n",
       "      <th>CRS_DEPTIME_COS</th>\n",
       "      <th>CRS_DEPTIME_SIN</th>\n",
       "    </tr>\n",
       "  </thead>\n",
       "  <tbody>\n",
       "    <tr>\n",
       "      <th>0</th>\n",
       "      <td>2019</td>\n",
       "      <td>1</td>\n",
       "      <td>1</td>\n",
       "      <td>1</td>\n",
       "      <td>2</td>\n",
       "      <td>7</td>\n",
       "      <td>0</td>\n",
       "      <td>1670</td>\n",
       "      <td>252</td>\n",
       "      <td>12</td>\n",
       "      <td>7</td>\n",
       "      <td>33</td>\n",
       "      <td>263</td>\n",
       "      <td>17</td>\n",
       "      <td>11</td>\n",
       "      <td>41</td>\n",
       "      <td>0.0</td>\n",
       "      <td>0.0</td>\n",
       "      <td>0.0</td>\n",
       "      <td>166.0</td>\n",
       "      <td>0</td>\n",
       "      <td>1</td>\n",
       "      <td>220</td>\n",
       "      <td>0.0</td>\n",
       "      <td>0.0</td>\n",
       "      <td>0</td>\n",
       "      <td>1</td>\n",
       "      <td>0</td>\n",
       "      <td>1</td>\n",
       "      <td>0</td>\n",
       "      <td>1</td>\n",
       "      <td>1</td>\n",
       "      <td>0</td>\n",
       "      <td>0</td>\n",
       "      <td>4</td>\n",
       "      <td>0</td>\n",
       "      <td>0</td>\n",
       "      <td>0</td>\n",
       "      <td>1</td>\n",
       "      <td>1</td>\n",
       "      <td>0</td>\n",
       "      <td>0</td>\n",
       "      <td>0</td>\n",
       "      <td>0</td>\n",
       "      <td>1</td>\n",
       "      <td>0.854912</td>\n",
       "      <td>-0.518773</td>\n",
       "      <td>0.843391</td>\n",
       "      <td>-0.537300</td>\n",
       "    </tr>\n",
       "    <tr>\n",
       "      <th>1</th>\n",
       "      <td>2019</td>\n",
       "      <td>1</td>\n",
       "      <td>1</td>\n",
       "      <td>1</td>\n",
       "      <td>2</td>\n",
       "      <td>7</td>\n",
       "      <td>0</td>\n",
       "      <td>1671</td>\n",
       "      <td>263</td>\n",
       "      <td>17</td>\n",
       "      <td>11</td>\n",
       "      <td>41</td>\n",
       "      <td>252</td>\n",
       "      <td>12</td>\n",
       "      <td>7</td>\n",
       "      <td>33</td>\n",
       "      <td>1.0</td>\n",
       "      <td>0.0</td>\n",
       "      <td>0.0</td>\n",
       "      <td>161.0</td>\n",
       "      <td>0</td>\n",
       "      <td>2</td>\n",
       "      <td>252</td>\n",
       "      <td>0.0</td>\n",
       "      <td>-5.0</td>\n",
       "      <td>0</td>\n",
       "      <td>1</td>\n",
       "      <td>0</td>\n",
       "      <td>1</td>\n",
       "      <td>0</td>\n",
       "      <td>1</td>\n",
       "      <td>1</td>\n",
       "      <td>0</td>\n",
       "      <td>0</td>\n",
       "      <td>6</td>\n",
       "      <td>0</td>\n",
       "      <td>0</td>\n",
       "      <td>0</td>\n",
       "      <td>1</td>\n",
       "      <td>1</td>\n",
       "      <td>0</td>\n",
       "      <td>0</td>\n",
       "      <td>0</td>\n",
       "      <td>0</td>\n",
       "      <td>1</td>\n",
       "      <td>0.143493</td>\n",
       "      <td>-0.989651</td>\n",
       "      <td>0.337917</td>\n",
       "      <td>-0.941176</td>\n",
       "    </tr>\n",
       "    <tr>\n",
       "      <th>2</th>\n",
       "      <td>2019</td>\n",
       "      <td>1</td>\n",
       "      <td>1</td>\n",
       "      <td>2</td>\n",
       "      <td>3</td>\n",
       "      <td>7</td>\n",
       "      <td>0</td>\n",
       "      <td>890</td>\n",
       "      <td>299</td>\n",
       "      <td>12</td>\n",
       "      <td>7</td>\n",
       "      <td>33</td>\n",
       "      <td>105</td>\n",
       "      <td>18</td>\n",
       "      <td>12</td>\n",
       "      <td>42</td>\n",
       "      <td>0.0</td>\n",
       "      <td>0.0</td>\n",
       "      <td>0.0</td>\n",
       "      <td>142.0</td>\n",
       "      <td>0</td>\n",
       "      <td>1</td>\n",
       "      <td>220</td>\n",
       "      <td>0.0</td>\n",
       "      <td>0.0</td>\n",
       "      <td>0</td>\n",
       "      <td>0</td>\n",
       "      <td>0</td>\n",
       "      <td>0</td>\n",
       "      <td>0</td>\n",
       "      <td>0</td>\n",
       "      <td>1</td>\n",
       "      <td>0</td>\n",
       "      <td>0</td>\n",
       "      <td>3</td>\n",
       "      <td>0</td>\n",
       "      <td>0</td>\n",
       "      <td>0</td>\n",
       "      <td>1</td>\n",
       "      <td>1</td>\n",
       "      <td>0</td>\n",
       "      <td>0</td>\n",
       "      <td>0</td>\n",
       "      <td>0</td>\n",
       "      <td>1</td>\n",
       "      <td>0.995396</td>\n",
       "      <td>-0.095846</td>\n",
       "      <td>0.991445</td>\n",
       "      <td>-0.130526</td>\n",
       "    </tr>\n",
       "    <tr>\n",
       "      <th>3</th>\n",
       "      <td>2019</td>\n",
       "      <td>1</td>\n",
       "      <td>1</td>\n",
       "      <td>2</td>\n",
       "      <td>3</td>\n",
       "      <td>7</td>\n",
       "      <td>0</td>\n",
       "      <td>891</td>\n",
       "      <td>105</td>\n",
       "      <td>18</td>\n",
       "      <td>12</td>\n",
       "      <td>42</td>\n",
       "      <td>299</td>\n",
       "      <td>12</td>\n",
       "      <td>7</td>\n",
       "      <td>33</td>\n",
       "      <td>0.0</td>\n",
       "      <td>0.0</td>\n",
       "      <td>0.0</td>\n",
       "      <td>138.0</td>\n",
       "      <td>0</td>\n",
       "      <td>2</td>\n",
       "      <td>298</td>\n",
       "      <td>0.0</td>\n",
       "      <td>-8.0</td>\n",
       "      <td>0</td>\n",
       "      <td>0</td>\n",
       "      <td>0</td>\n",
       "      <td>0</td>\n",
       "      <td>0</td>\n",
       "      <td>0</td>\n",
       "      <td>1</td>\n",
       "      <td>0</td>\n",
       "      <td>0</td>\n",
       "      <td>5</td>\n",
       "      <td>0</td>\n",
       "      <td>0</td>\n",
       "      <td>0</td>\n",
       "      <td>1</td>\n",
       "      <td>1</td>\n",
       "      <td>0</td>\n",
       "      <td>0</td>\n",
       "      <td>0</td>\n",
       "      <td>0</td>\n",
       "      <td>1</td>\n",
       "      <td>0.612217</td>\n",
       "      <td>-0.790690</td>\n",
       "      <td>0.584250</td>\n",
       "      <td>-0.811574</td>\n",
       "    </tr>\n",
       "    <tr>\n",
       "      <th>4</th>\n",
       "      <td>2019</td>\n",
       "      <td>1</td>\n",
       "      <td>1</td>\n",
       "      <td>2</td>\n",
       "      <td>3</td>\n",
       "      <td>7</td>\n",
       "      <td>0</td>\n",
       "      <td>1203</td>\n",
       "      <td>299</td>\n",
       "      <td>12</td>\n",
       "      <td>7</td>\n",
       "      <td>33</td>\n",
       "      <td>14</td>\n",
       "      <td>37</td>\n",
       "      <td>31</td>\n",
       "      <td>36</td>\n",
       "      <td>0.0</td>\n",
       "      <td>0.0</td>\n",
       "      <td>0.0</td>\n",
       "      <td>94.0</td>\n",
       "      <td>0</td>\n",
       "      <td>3</td>\n",
       "      <td>105</td>\n",
       "      <td>0.0</td>\n",
       "      <td>-8.0</td>\n",
       "      <td>0</td>\n",
       "      <td>0</td>\n",
       "      <td>0</td>\n",
       "      <td>0</td>\n",
       "      <td>0</td>\n",
       "      <td>0</td>\n",
       "      <td>1</td>\n",
       "      <td>0</td>\n",
       "      <td>0</td>\n",
       "      <td>7</td>\n",
       "      <td>1</td>\n",
       "      <td>0</td>\n",
       "      <td>0</td>\n",
       "      <td>0</td>\n",
       "      <td>1</td>\n",
       "      <td>0</td>\n",
       "      <td>0</td>\n",
       "      <td>0</td>\n",
       "      <td>0</td>\n",
       "      <td>1</td>\n",
       "      <td>-0.292372</td>\n",
       "      <td>-0.956305</td>\n",
       "      <td>-0.317305</td>\n",
       "      <td>-0.948324</td>\n",
       "    </tr>\n",
       "  </tbody>\n",
       "</table>\n",
       "</div>"
      ],
      "text/plain": [
       "   YEAR  QUARTER  MONTH  DAY_OF_MONTH  DAY_OF_WEEK  OP_UNIQUE_CARRIER  \\\n",
       "0  2019        1      1             1            2                  7   \n",
       "1  2019        1      1             1            2                  7   \n",
       "2  2019        1      1             2            3                  7   \n",
       "3  2019        1      1             2            3                  7   \n",
       "4  2019        1      1             2            3                  7   \n",
       "\n",
       "   TAIL_NUM  OP_CARRIER_FL_NUM  ORIGIN_CITY_NAME  ORIGIN_STATE_FIPS  \\\n",
       "0         0               1670               252                 12   \n",
       "1         0               1671               263                 17   \n",
       "2         0                890               299                 12   \n",
       "3         0                891               105                 18   \n",
       "4         0               1203               299                 12   \n",
       "\n",
       "   ORIGIN_STATE_NM  ORIGIN_WAC  DEST_CITY_NAME  DEST_STATE_FIPS  \\\n",
       "0                7          33             263               17   \n",
       "1               11          41             252               12   \n",
       "2                7          33             105               18   \n",
       "3               12          42             299               12   \n",
       "4                7          33              14               37   \n",
       "\n",
       "   DEST_STATE_NM  DEST_WAC  DEP_DEL15  CANCELLED  DIVERTED  CRS_ELAPSED_TIME  \\\n",
       "0             11        41        0.0        0.0       0.0             166.0   \n",
       "1              7        33        1.0        0.0       0.0             161.0   \n",
       "2             12        42        0.0        0.0       0.0             142.0   \n",
       "3              7        33        0.0        0.0       0.0             138.0   \n",
       "4             31        36        0.0        0.0       0.0              94.0   \n",
       "\n",
       "   DIV_AIRPORT_LANDINGS  FLIGHT_COUNT  PRIOR_ORIGIN_CITY_NAME  PRIOR_DELAY  \\\n",
       "0                     0             1                     220          0.0   \n",
       "1                     0             2                     252          0.0   \n",
       "2                     0             1                     220          0.0   \n",
       "3                     0             2                     298          0.0   \n",
       "4                     0             3                     105          0.0   \n",
       "\n",
       "   PRIOR_DEP_DELAY  Is_month_end  Is_month_start  Is_quarter_end  \\\n",
       "0              0.0             0               1               0   \n",
       "1             -5.0             0               1               0   \n",
       "2              0.0             0               0               0   \n",
       "3             -8.0             0               0               0   \n",
       "4             -8.0             0               0               0   \n",
       "\n",
       "   Is_quarter_start  Is_year_end  Is_year_start  BEGINING_OF_MONTH  \\\n",
       "0                 1            0              1                  1   \n",
       "1                 1            0              1                  1   \n",
       "2                 0            0              0                  1   \n",
       "3                 0            0              0                  1   \n",
       "4                 0            0              0                  1   \n",
       "\n",
       "   MIDDLE_OF_MONTH  END_OF_MONTH  HOUR  MORNING  DAY  EVENING  NIGHT  WINTER  \\\n",
       "0                0             0     4        0    0        0      1       1   \n",
       "1                0             0     6        0    0        0      1       1   \n",
       "2                0             0     3        0    0        0      1       1   \n",
       "3                0             0     5        0    0        0      1       1   \n",
       "4                0             0     7        1    0        0      0       1   \n",
       "\n",
       "   SPRING  SUMMER  AUTUMN  WEEKEND  WEEKDAY  DEPTIME_COS  DEPTIME_SIN  \\\n",
       "0       0       0       0        0        1     0.854912    -0.518773   \n",
       "1       0       0       0        0        1     0.143493    -0.989651   \n",
       "2       0       0       0        0        1     0.995396    -0.095846   \n",
       "3       0       0       0        0        1     0.612217    -0.790690   \n",
       "4       0       0       0        0        1    -0.292372    -0.956305   \n",
       "\n",
       "   CRS_DEPTIME_COS  CRS_DEPTIME_SIN  \n",
       "0         0.843391        -0.537300  \n",
       "1         0.337917        -0.941176  \n",
       "2         0.991445        -0.130526  \n",
       "3         0.584250        -0.811574  \n",
       "4        -0.317305        -0.948324  "
      ]
     },
     "execution_count": 7,
     "metadata": {},
     "output_type": "execute_result"
    }
   ],
   "source": [
    "df.head()"
   ]
  },
  {
   "cell_type": "code",
   "execution_count": 8,
   "metadata": {},
   "outputs": [
    {
     "data": {
      "text/plain": [
       "(1705725, 49)"
      ]
     },
     "execution_count": 8,
     "metadata": {},
     "output_type": "execute_result"
    }
   ],
   "source": [
    "df.compute().shape"
   ]
  },
  {
   "cell_type": "code",
   "execution_count": 9,
   "metadata": {},
   "outputs": [
    {
     "data": {
      "text/plain": [
       "0.0    0.814386\n",
       "1.0    0.185614\n",
       "Name: DEP_DEL15, dtype: float64"
      ]
     },
     "execution_count": 9,
     "metadata": {},
     "output_type": "execute_result"
    }
   ],
   "source": [
    "df['DEP_DEL15'].compute().value_counts(normalize = True)"
   ]
  },
  {
   "cell_type": "markdown",
   "metadata": {},
   "source": [
    "### *Scalable Hyperparameter Tuning - Fugue & Tune*"
   ]
  },
  {
   "cell_type": "code",
   "execution_count": 10,
   "metadata": {},
   "outputs": [],
   "source": [
    "dft = df.compute().rename({'DEP_DEL15': 'label'}, axis='columns')"
   ]
  },
  {
   "cell_type": "code",
   "execution_count": 11,
   "metadata": {},
   "outputs": [
    {
     "data": {
      "text/plain": [
       "pandas.core.frame.DataFrame"
      ]
     },
     "execution_count": 11,
     "metadata": {},
     "output_type": "execute_result"
    }
   ],
   "source": [
    "type(dft)"
   ]
  },
  {
   "cell_type": "code",
   "execution_count": 12,
   "metadata": {},
   "outputs": [
    {
     "data": {
      "text/plain": [
       "(1705725, 49)"
      ]
     },
     "execution_count": 12,
     "metadata": {},
     "output_type": "execute_result"
    }
   ],
   "source": [
    "dft = dft.sample(frac = 1)\n",
    "dft.shape"
   ]
  },
  {
   "cell_type": "code",
   "execution_count": 13,
   "metadata": {},
   "outputs": [],
   "source": [
    "space = sum([\n",
    "    sk_space(RandomForestClassifier,\n",
    "             random_state=42,\n",
    "             criterion = Grid('entropy', 'gini'), \n",
    "             max_depth = Rand(5, 8, 10), \n",
    "             max_features = Grid('auto', 'sqrt'),\n",
    "             min_samples_leaf = Rand(4, 6, 8),\n",
    "             min_samples_split = Rand(5, 7,10),\n",
    "             n_estimators = Grid(100, 200, 300),\n",
    "             n_jobs = -1),\n",
    "    sk_space(LogisticRegression, \n",
    "             random_state=42,\n",
    "             C = Grid(0.001,0.01, 0.1, 1)),\n",
    "    sk_space(SVC(), \n",
    "             random_state=42,\n",
    "             C = Grid(0.1, 1, 10, 100, 1000), \n",
    "             gamma = Rand(0.0001, 0.001, 0.01, 0.1, 1),\n",
    "             kernel = 'rbf'),\n",
    "    sk_space(GradientBoostingClassifier(),\n",
    "             random_state=42,\n",
    "             max_depth=8, min_samples_split=2, max_features='sqrt',\n",
    "             learning_rate = Rand(0.001, 0.005, 0.01, 0.05, 0.1),\n",
    "             n_estimators = Grid(100,300,500)),\n",
    "    sk_space(AdaBoostClassifier(),\n",
    "            random_state = 42,\n",
    "            learning_rate = Rand(0.05, 0.5),\n",
    "            n_estimators = Rand(100, 300))\n",
    "])"
   ]
  },
  {
   "cell_type": "code",
   "execution_count": 14,
   "metadata": {},
   "outputs": [
    {
     "data": {
      "text/plain": [
       "25"
      ]
     },
     "execution_count": 14,
     "metadata": {},
     "output_type": "execute_result"
    }
   ],
   "source": [
    "len(list(space))"
   ]
  },
  {
   "cell_type": "code",
   "execution_count": 15,
   "metadata": {},
   "outputs": [
    {
     "data": {
      "text/plain": [
       "[{'__space__model': 'sklearn.ensemble._forest.RandomForestClassifier',\n",
       "  'random_state': 42,\n",
       "  'criterion': 'entropy',\n",
       "  'max_depth': <tune.space.parameters.Rand at 0x20b17dee8e0>,\n",
       "  'max_features': 'auto',\n",
       "  'min_samples_leaf': <tune.space.parameters.Rand at 0x20b17dee400>,\n",
       "  'min_samples_split': <tune.space.parameters.Rand at 0x20b17dee5b0>,\n",
       "  'n_estimators': 100,\n",
       "  'n_jobs': -1},\n",
       " {'__space__model': 'sklearn.ensemble._forest.RandomForestClassifier',\n",
       "  'random_state': 42,\n",
       "  'criterion': 'entropy',\n",
       "  'max_depth': <tune.space.parameters.Rand at 0x20b17df40a0>,\n",
       "  'max_features': 'auto',\n",
       "  'min_samples_leaf': <tune.space.parameters.Rand at 0x20b17df41f0>,\n",
       "  'min_samples_split': <tune.space.parameters.Rand at 0x20b17df4280>,\n",
       "  'n_estimators': 200,\n",
       "  'n_jobs': -1},\n",
       " {'__space__model': 'sklearn.ensemble._forest.RandomForestClassifier',\n",
       "  'random_state': 42,\n",
       "  'criterion': 'entropy',\n",
       "  'max_depth': <tune.space.parameters.Rand at 0x20b17df4370>,\n",
       "  'max_features': 'auto',\n",
       "  'min_samples_leaf': <tune.space.parameters.Rand at 0x20b17df4130>,\n",
       "  'min_samples_split': <tune.space.parameters.Rand at 0x20b17df44f0>,\n",
       "  'n_estimators': 300,\n",
       "  'n_jobs': -1},\n",
       " {'__space__model': 'sklearn.ensemble._forest.RandomForestClassifier',\n",
       "  'random_state': 42,\n",
       "  'criterion': 'entropy',\n",
       "  'max_depth': <tune.space.parameters.Rand at 0x20b17df4520>,\n",
       "  'max_features': 'sqrt',\n",
       "  'min_samples_leaf': <tune.space.parameters.Rand at 0x20b17de6970>,\n",
       "  'min_samples_split': <tune.space.parameters.Rand at 0x20b17de6190>,\n",
       "  'n_estimators': 100,\n",
       "  'n_jobs': -1},\n",
       " {'__space__model': 'sklearn.ensemble._forest.RandomForestClassifier',\n",
       "  'random_state': 42,\n",
       "  'criterion': 'entropy',\n",
       "  'max_depth': <tune.space.parameters.Rand at 0x20b17de60d0>,\n",
       "  'max_features': 'sqrt',\n",
       "  'min_samples_leaf': <tune.space.parameters.Rand at 0x20b17de6d60>,\n",
       "  'min_samples_split': <tune.space.parameters.Rand at 0x20b17de6040>,\n",
       "  'n_estimators': 200,\n",
       "  'n_jobs': -1},\n",
       " {'__space__model': 'sklearn.ensemble._forest.RandomForestClassifier',\n",
       "  'random_state': 42,\n",
       "  'criterion': 'entropy',\n",
       "  'max_depth': <tune.space.parameters.Rand at 0x20b17de66a0>,\n",
       "  'max_features': 'sqrt',\n",
       "  'min_samples_leaf': <tune.space.parameters.Rand at 0x20b17de64c0>,\n",
       "  'min_samples_split': <tune.space.parameters.Rand at 0x20b17de6070>,\n",
       "  'n_estimators': 300,\n",
       "  'n_jobs': -1},\n",
       " {'__space__model': 'sklearn.ensemble._forest.RandomForestClassifier',\n",
       "  'random_state': 42,\n",
       "  'criterion': 'gini',\n",
       "  'max_depth': <tune.space.parameters.Rand at 0x20b17de61c0>,\n",
       "  'max_features': 'auto',\n",
       "  'min_samples_leaf': <tune.space.parameters.Rand at 0x20b17de69d0>,\n",
       "  'min_samples_split': <tune.space.parameters.Rand at 0x20b17de6640>,\n",
       "  'n_estimators': 100,\n",
       "  'n_jobs': -1},\n",
       " {'__space__model': 'sklearn.ensemble._forest.RandomForestClassifier',\n",
       "  'random_state': 42,\n",
       "  'criterion': 'gini',\n",
       "  'max_depth': <tune.space.parameters.Rand at 0x20b17de6400>,\n",
       "  'max_features': 'auto',\n",
       "  'min_samples_leaf': <tune.space.parameters.Rand at 0x20b17de6790>,\n",
       "  'min_samples_split': <tune.space.parameters.Rand at 0x20b17de67f0>,\n",
       "  'n_estimators': 200,\n",
       "  'n_jobs': -1},\n",
       " {'__space__model': 'sklearn.ensemble._forest.RandomForestClassifier',\n",
       "  'random_state': 42,\n",
       "  'criterion': 'gini',\n",
       "  'max_depth': <tune.space.parameters.Rand at 0x20b17de6fa0>,\n",
       "  'max_features': 'auto',\n",
       "  'min_samples_leaf': <tune.space.parameters.Rand at 0x20b17de6b20>,\n",
       "  'min_samples_split': <tune.space.parameters.Rand at 0x20b17dff0a0>,\n",
       "  'n_estimators': 300,\n",
       "  'n_jobs': -1},\n",
       " {'__space__model': 'sklearn.ensemble._forest.RandomForestClassifier',\n",
       "  'random_state': 42,\n",
       "  'criterion': 'gini',\n",
       "  'max_depth': <tune.space.parameters.Rand at 0x20b17dff100>,\n",
       "  'max_features': 'sqrt',\n",
       "  'min_samples_leaf': <tune.space.parameters.Rand at 0x20b17dff1c0>,\n",
       "  'min_samples_split': <tune.space.parameters.Rand at 0x20b17dff250>,\n",
       "  'n_estimators': 100,\n",
       "  'n_jobs': -1},\n",
       " {'__space__model': 'sklearn.ensemble._forest.RandomForestClassifier',\n",
       "  'random_state': 42,\n",
       "  'criterion': 'gini',\n",
       "  'max_depth': <tune.space.parameters.Rand at 0x20b17dff2b0>,\n",
       "  'max_features': 'sqrt',\n",
       "  'min_samples_leaf': <tune.space.parameters.Rand at 0x20b17dff370>,\n",
       "  'min_samples_split': <tune.space.parameters.Rand at 0x20b17dff400>,\n",
       "  'n_estimators': 200,\n",
       "  'n_jobs': -1},\n",
       " {'__space__model': 'sklearn.ensemble._forest.RandomForestClassifier',\n",
       "  'random_state': 42,\n",
       "  'criterion': 'gini',\n",
       "  'max_depth': <tune.space.parameters.Rand at 0x20b17dff460>,\n",
       "  'max_features': 'sqrt',\n",
       "  'min_samples_leaf': <tune.space.parameters.Rand at 0x20b17dff520>,\n",
       "  'min_samples_split': <tune.space.parameters.Rand at 0x20b17dff5b0>,\n",
       "  'n_estimators': 300,\n",
       "  'n_jobs': -1},\n",
       " {'__space__model': 'sklearn.linear_model._logistic.LogisticRegression',\n",
       "  'random_state': 42,\n",
       "  'C': 0.001},\n",
       " {'__space__model': 'sklearn.linear_model._logistic.LogisticRegression',\n",
       "  'random_state': 42,\n",
       "  'C': 0.01},\n",
       " {'__space__model': 'sklearn.linear_model._logistic.LogisticRegression',\n",
       "  'random_state': 42,\n",
       "  'C': 0.1},\n",
       " {'__space__model': 'sklearn.linear_model._logistic.LogisticRegression',\n",
       "  'random_state': 42,\n",
       "  'C': 1},\n",
       " {'__space__model': 'sklearn.svm._classes.SVC',\n",
       "  'random_state': 42,\n",
       "  'C': 0.1,\n",
       "  'gamma': <tune.space.parameters.Rand at 0x20b17dff610>,\n",
       "  'kernel': 'rbf'},\n",
       " {'__space__model': 'sklearn.svm._classes.SVC',\n",
       "  'random_state': 42,\n",
       "  'C': 1,\n",
       "  'gamma': <tune.space.parameters.Rand at 0x20b17dff670>,\n",
       "  'kernel': 'rbf'},\n",
       " {'__space__model': 'sklearn.svm._classes.SVC',\n",
       "  'random_state': 42,\n",
       "  'C': 10,\n",
       "  'gamma': <tune.space.parameters.Rand at 0x20b17dff700>,\n",
       "  'kernel': 'rbf'},\n",
       " {'__space__model': 'sklearn.svm._classes.SVC',\n",
       "  'random_state': 42,\n",
       "  'C': 100,\n",
       "  'gamma': <tune.space.parameters.Rand at 0x20b17dff790>,\n",
       "  'kernel': 'rbf'},\n",
       " {'__space__model': 'sklearn.svm._classes.SVC',\n",
       "  'random_state': 42,\n",
       "  'C': 1000,\n",
       "  'gamma': <tune.space.parameters.Rand at 0x20b17dff820>,\n",
       "  'kernel': 'rbf'},\n",
       " {'__space__model': 'sklearn.ensemble._gb.GradientBoostingClassifier',\n",
       "  'random_state': 42,\n",
       "  'max_depth': 8,\n",
       "  'min_samples_split': 2,\n",
       "  'max_features': 'sqrt',\n",
       "  'learning_rate': <tune.space.parameters.Rand at 0x20b17dff880>,\n",
       "  'n_estimators': 100},\n",
       " {'__space__model': 'sklearn.ensemble._gb.GradientBoostingClassifier',\n",
       "  'random_state': 42,\n",
       "  'max_depth': 8,\n",
       "  'min_samples_split': 2,\n",
       "  'max_features': 'sqrt',\n",
       "  'learning_rate': <tune.space.parameters.Rand at 0x20b17dff910>,\n",
       "  'n_estimators': 300},\n",
       " {'__space__model': 'sklearn.ensemble._gb.GradientBoostingClassifier',\n",
       "  'random_state': 42,\n",
       "  'max_depth': 8,\n",
       "  'min_samples_split': 2,\n",
       "  'max_features': 'sqrt',\n",
       "  'learning_rate': <tune.space.parameters.Rand at 0x20b17dff9a0>,\n",
       "  'n_estimators': 500},\n",
       " {'__space__model': 'sklearn.ensemble._weight_boosting.AdaBoostClassifier',\n",
       "  'random_state': 42,\n",
       "  'learning_rate': <tune.space.parameters.Rand at 0x20b17dffa00>,\n",
       "  'n_estimators': <tune.space.parameters.Rand at 0x20b17dffac0>}]"
      ]
     },
     "execution_count": 15,
     "metadata": {},
     "output_type": "execute_result"
    }
   ],
   "source": [
    "list(space)"
   ]
  },
  {
   "cell_type": "markdown",
   "metadata": {},
   "source": [
    "### Hyperparameter tuning - 'roc_auc'"
   ]
  },
  {
   "cell_type": "code",
   "execution_count": 16,
   "metadata": {},
   "outputs": [
    {
     "name": "stderr",
     "output_type": "stream",
     "text": [
      "NativeExecutionEngine doesn't respect num_partitions ROWCOUNT\n"
     ]
    },
    {
     "name": "stdout",
     "output_type": "stream",
     "text": [
      "Wall time: 13min 43s\n"
     ]
    }
   ],
   "source": [
    "%time result = suggest_sk_models_by_cv(space, train_df = dft, cv = 5, temp_path = r\"C:\\Users\\Soundarya.Rupavatara\\OneDrive - Clyde Industries Inc\\Desktop\\Springboard\\SpringBoardDS-J21\\18_ML_Modeling\\Capstone2\", scoring=\"roc_auc\")\n",
    "\n",
    "#suggest_sk_models_by_cv(space, train_df, scoring, cv, temp_path, feature_prefix, label_col, \n",
    "#                        save_model, partition_keys, top_n, objective_runner, monitor, distributed, \n",
    "#                        execution_engine, execution_engine_conf)"
   ]
  },
  {
   "cell_type": "code",
   "execution_count": 17,
   "metadata": {},
   "outputs": [
    {
     "name": "stdout",
     "output_type": "stream",
     "text": [
      "0.7473615186393974 [] {'C': 0.01, '__space__model': 'sklearn.linear_model._logistic.LogisticRegression', 'random_state': 42}\n"
     ]
    }
   ],
   "source": [
    "for r in result:\n",
    "    print(r.metric, r.trial.keys, r.trial.params)"
   ]
  },
  {
   "cell_type": "markdown",
   "metadata": {},
   "source": [
    "### Hyperparameter tuning  - 'average_precision'"
   ]
  },
  {
   "cell_type": "code",
   "execution_count": 18,
   "metadata": {},
   "outputs": [
    {
     "name": "stderr",
     "output_type": "stream",
     "text": [
      "NativeExecutionEngine doesn't respect num_partitions ROWCOUNT\n"
     ]
    },
    {
     "name": "stdout",
     "output_type": "stream",
     "text": [
      "Wall time: 13min 57s\n"
     ]
    }
   ],
   "source": [
    "%time result_ap = suggest_sk_models_by_cv(space, train_df = dft, cv = 5, temp_path = r\"C:\\Users\\Soundarya.Rupavatara\\OneDrive - Clyde Industries Inc\\Desktop\\Springboard\\SpringBoardDS-J21\\18_ML_Modeling\\Capstone2\", scoring=\"average_precision\")\n",
    "\n",
    "#suggest_sk_models_by_cv(space, train_df, scoring, cv, temp_path, feature_prefix, label_col, \n",
    "#                        save_model, partition_keys, top_n, objective_runner, monitor, distributed, \n",
    "#                        execution_engine, execution_engine_conf)"
   ]
  },
  {
   "cell_type": "code",
   "execution_count": 19,
   "metadata": {},
   "outputs": [
    {
     "name": "stdout",
     "output_type": "stream",
     "text": [
      "0.5172911648832308 [] {'C': 1, '__space__model': 'sklearn.linear_model._logistic.LogisticRegression', 'random_state': 42}\n"
     ]
    }
   ],
   "source": [
    "for r in result_ap:\n",
    "    print(r.metric, r.trial.keys, r.trial.params)"
   ]
  },
  {
   "cell_type": "markdown",
   "metadata": {},
   "source": [
    "## *Modeling*"
   ]
  },
  {
   "cell_type": "code",
   "execution_count": 20,
   "metadata": {},
   "outputs": [],
   "source": [
    "X = df.drop('DEP_DEL15', axis = 1)\n",
    "y = df['DEP_DEL15']"
   ]
  },
  {
   "cell_type": "markdown",
   "metadata": {},
   "source": [
    "### *Train-Test Split*"
   ]
  },
  {
   "cell_type": "code",
   "execution_count": 21,
   "metadata": {},
   "outputs": [
    {
     "name": "stdout",
     "output_type": "stream",
     "text": [
      "Wall time: 5.59 ms\n"
     ]
    }
   ],
   "source": [
    "# Splitting the data\n",
    "from dask_ml.model_selection import train_test_split\n",
    "%time X_train, X_test, y_train, y_test = train_test_split(X, y, test_size = 0.30, random_state=42, shuffle=True)"
   ]
  },
  {
   "cell_type": "markdown",
   "metadata": {},
   "source": [
    "### *Standardization*"
   ]
  },
  {
   "cell_type": "code",
   "execution_count": 22,
   "metadata": {},
   "outputs": [
    {
     "name": "stdout",
     "output_type": "stream",
     "text": [
      "Wall time: 4.38 s\n",
      "Wall time: 14 ms\n"
     ]
    }
   ],
   "source": [
    "# Standardize data before modeling\n",
    "from dask_ml.preprocessing import StandardScaler\n",
    "sc = StandardScaler()\n",
    "%time X_train = sc.fit_transform(X_train)\n",
    "%time X_test = sc.transform(X_test)"
   ]
  },
  {
   "cell_type": "code",
   "execution_count": 23,
   "metadata": {},
   "outputs": [
    {
     "name": "stdout",
     "output_type": "stream",
     "text": [
      "Wall time: 3.79 s\n",
      "Wall time: 3.66 s\n",
      "Wall time: 2.46 s\n",
      "Wall time: 2.65 s\n"
     ]
    }
   ],
   "source": [
    "%time X_train = X_train.persist()\n",
    "%time X_test = X_test.persist()\n",
    "%time y_train = y_train.persist()\n",
    "%time y_test = y_test.persist()"
   ]
  },
  {
   "cell_type": "code",
   "execution_count": 24,
   "metadata": {},
   "outputs": [
    {
     "data": {
      "text/plain": [
       "dask.dataframe.core.DataFrame"
      ]
     },
     "execution_count": 24,
     "metadata": {},
     "output_type": "execute_result"
    }
   ],
   "source": [
    "type(X_train)"
   ]
  },
  {
   "cell_type": "markdown",
   "metadata": {},
   "source": [
    "## *Hyperparameter Tuning using Dask*"
   ]
  },
  {
   "cell_type": "markdown",
   "metadata": {},
   "source": [
    "### *Logistic Regression*"
   ]
  },
  {
   "cell_type": "code",
   "execution_count": 25,
   "metadata": {},
   "outputs": [],
   "source": [
    "# start a local Dask client\n",
    "client1 = Client(n_workers=4, \n",
    "                threads_per_worker=2,\n",
    "                memory_limit='128GB') "
   ]
  },
  {
   "cell_type": "code",
   "execution_count": 26,
   "metadata": {},
   "outputs": [
    {
     "data": {
      "text/html": [
       "<table style=\"border: 2px solid white;\">\n",
       "<tr>\n",
       "<td style=\"vertical-align: top; border: 0px solid white\">\n",
       "<h3 style=\"text-align: left;\">Client</h3>\n",
       "<ul style=\"text-align: left; list-style: none; margin: 0; padding: 0;\">\n",
       "  <li><b>Scheduler: </b>tcp://127.0.0.1:50505</li>\n",
       "  <li><b>Dashboard: </b><a href='http://127.0.0.1:8787/status' target='_blank'>http://127.0.0.1:8787/status</a></li>\n",
       "</ul>\n",
       "</td>\n",
       "<td style=\"vertical-align: top; border: 0px solid white\">\n",
       "<h3 style=\"text-align: left;\">Cluster</h3>\n",
       "<ul style=\"text-align: left; list-style:none; margin: 0; padding: 0;\">\n",
       "  <li><b>Workers: </b>4</li>\n",
       "  <li><b>Cores: </b>8</li>\n",
       "  <li><b>Memory: </b>67.66 GB</li>\n",
       "</ul>\n",
       "</td>\n",
       "</tr>\n",
       "</table>"
      ],
      "text/plain": [
       "<Client: 'tcp://127.0.0.1:50505' processes=4 threads=8, memory=67.66 GB>"
      ]
     },
     "execution_count": 26,
     "metadata": {},
     "output_type": "execute_result"
    }
   ],
   "source": [
    "client1"
   ]
  },
  {
   "cell_type": "code",
   "execution_count": 27,
   "metadata": {},
   "outputs": [
    {
     "name": "stdout",
     "output_type": "stream",
     "text": [
      "Wall time: 1min 30s\n"
     ]
    }
   ],
   "source": [
    "import joblib\n",
    "from sklearn.linear_model import LogisticRegression\n",
    "from dask_ml.model_selection import GridSearchCV\n",
    "from sklearn.decomposition import PCA\n",
    "from sklearn.pipeline import Pipeline\n",
    "\n",
    "\n",
    "lr = LogisticRegression(class_weight = 'balanced')\n",
    "pca = PCA()\n",
    "pipe = Pipeline(steps=[('pca', pca),\n",
    "                       ('lr', lr)])\n",
    "\n",
    "# Create the grid parameters 'lr__penalty': ['l1', 'l2'],\n",
    "params = { \n",
    "    'pca__n_components': [5, 15, 20, 30],\n",
    "    'lr__C':[0.001,0.01, 0.1, 1]\n",
    "}\n",
    "\n",
    "\n",
    "lr_grid = GridSearchCV(pipe, params, n_jobs = -1)\n",
    "\n",
    "\n",
    "with joblib.parallel_backend('dask'):\n",
    "    %time _ = lr_grid.fit(X_train, y_train)"
   ]
  },
  {
   "cell_type": "code",
   "execution_count": 28,
   "metadata": {},
   "outputs": [],
   "source": [
    "client1.close()"
   ]
  },
  {
   "cell_type": "code",
   "execution_count": 29,
   "metadata": {},
   "outputs": [
    {
     "data": {
      "text/plain": [
       "{'lr__C': 1, 'pca__n_components': 15}"
      ]
     },
     "execution_count": 29,
     "metadata": {},
     "output_type": "execute_result"
    }
   ],
   "source": [
    "lr_grid.best_params_"
   ]
  },
  {
   "cell_type": "code",
   "execution_count": 30,
   "metadata": {},
   "outputs": [],
   "source": [
    "lr_grid_best = lr_grid.best_estimator_"
   ]
  },
  {
   "cell_type": "code",
   "execution_count": 31,
   "metadata": {},
   "outputs": [
    {
     "name": "stdout",
     "output_type": "stream",
     "text": [
      "Train Average Precision Score:0.5165968126931761\n",
      "Test Average Precision Score:0.5195719135565113\n"
     ]
    }
   ],
   "source": [
    "# Calculating average precision score for X_train\n",
    "apc_lr_train = average_precision_score(y_train, lr_grid_best.predict_proba(X_train)[:, 1])\n",
    "\n",
    "# Calculating average precision score for X_test\n",
    "apc_lr_test = average_precision_score(y_test, lr_grid_best.predict_proba(X_test)[:, 1])\n",
    "\n",
    "print(f'Train Average Precision Score:{apc_lr_train}')\n",
    "print(f'Test Average Precision Score:{apc_lr_test}')"
   ]
  },
  {
   "cell_type": "code",
   "execution_count": 32,
   "metadata": {},
   "outputs": [
    {
     "data": {
      "text/plain": [
       "Text(0.5, 1.0, '2-class Precision-Recall curve: AP=0.52')"
      ]
     },
     "execution_count": 32,
     "metadata": {},
     "output_type": "execute_result"
    },
    {
     "data": {
      "image/png": "[encoded data removed]",
      "text/plain": [
       "<Figure size 432x288 with 1 Axes>"
      ]
     },
     "metadata": {
      "needs_background": "light"
     },
     "output_type": "display_data"
    }
   ],
   "source": [
    "disp = plot_precision_recall_curve(lr_grid_best, X_test, y_test)\n",
    "disp.ax_.set_title('2-class Precision-Recall curve: '\n",
    "                   'AP={0:0.2f}'.format(apc_lr_test))"
   ]
  },
  {
   "cell_type": "code",
   "execution_count": 33,
   "metadata": {},
   "outputs": [
    {
     "name": "stdout",
     "output_type": "stream",
     "text": [
      "Train AUC Score:0.6908018874183756\n",
      "Test AUC Score:0.6927829047907148\n"
     ]
    }
   ],
   "source": [
    "# Calculating AUC score for X_train\n",
    "y_pred_lr_train = lr_grid_best.predict(X_train)\n",
    "fpr_lr_train, tpr_lr_train, thresholds_lr_train = roc_curve(y_train, y_pred_lr_train)\n",
    "auc_lr_train = auc(fpr_lr_train, tpr_lr_train)\n",
    "\n",
    "# Calculating AUC score for X_test\n",
    "y_pred_lr_test = lr_grid_best.predict(X_test)\n",
    "fpr_lr_test, tpr_lr_test, thresholds_lr_test = roc_curve(y_test, y_pred_lr_test)\n",
    "auc_lr_test = auc(fpr_lr_test, tpr_lr_test)                                                       \n",
    "\n",
    "print(f'Train AUC Score:{auc_lr_train}')\n",
    "print(f'Test AUC Score:{auc_lr_test}')"
   ]
  },
  {
   "cell_type": "code",
   "execution_count": 34,
   "metadata": {},
   "outputs": [
    {
     "data": {
      "image/png": "[encoded data removed]",
      "text/plain": [
       "<Figure size 576x432 with 1 Axes>"
      ]
     },
     "metadata": {
      "needs_background": "light"
     },
     "output_type": "display_data"
    }
   ],
   "source": [
    "plt.figure(figsize = (8, 6))\n",
    "lw = 2\n",
    "plt.plot(fpr_lr_test, tpr_lr_test, color='darkorange',\n",
    "         lw=lw, label='ROC curve (area = %0.2f)' %auc_lr_test)\n",
    "plt.plot([0, 1], [0, 1], color='navy', lw=lw, linestyle='--')\n",
    "plt.xlim([0.0, 1.0])\n",
    "plt.ylim([0.0, 1.05])\n",
    "plt.xlabel('False Positive Rate')\n",
    "plt.ylabel('True Positive Rate')\n",
    "plt.title('Receiver operating characteristic example')\n",
    "plt.legend(loc=\"lower right\")\n",
    "plt.show()"
   ]
  },
  {
   "cell_type": "code",
   "execution_count": 35,
   "metadata": {},
   "outputs": [
    {
     "data": {
      "image/png": "[encoded data removed]",
      "text/plain": [
       "<Figure size 432x432 with 2 Axes>"
      ]
     },
     "metadata": {
      "needs_background": "light"
     },
     "output_type": "display_data"
    }
   ],
   "source": [
    "fig, ax = plt.subplots(figsize = (6,6))\n",
    "plt.rcParams.update({'font.size': 16})\n",
    "plot_confusion_matrix(lr_grid_best, X_test, y_test, cmap=plt.cm.Blues, ax = ax, values_format = '') \n",
    "plt.show()"
   ]
  },
  {
   "cell_type": "code",
   "execution_count": 36,
   "metadata": {},
   "outputs": [
    {
     "name": "stdout",
     "output_type": "stream",
     "text": [
      "              precision    recall  f1-score   support\n",
      "\n",
      "         0.0       0.88      0.92      0.90    416616\n",
      "         1.0       0.58      0.46      0.51     95016\n",
      "\n",
      "    accuracy                           0.84    511632\n",
      "   macro avg       0.73      0.69      0.71    511632\n",
      "weighted avg       0.83      0.84      0.83    511632\n",
      "\n"
     ]
    }
   ],
   "source": [
    "print(classification_report(y_test, y_pred_lr_test))"
   ]
  },
  {
   "cell_type": "code",
   "execution_count": 37,
   "metadata": {},
   "outputs": [
    {
     "data": {
      "text/plain": [
       "0.7524474169794839"
      ]
     },
     "execution_count": 37,
     "metadata": {},
     "output_type": "execute_result"
    }
   ],
   "source": [
    "roc_auc_score(y_test, lr_grid_best.predict_proba(X_test)[:, 1])"
   ]
  },
  {
   "cell_type": "markdown",
   "metadata": {},
   "source": [
    "### *RandomForestClassifier*"
   ]
  },
  {
   "cell_type": "code",
   "execution_count": 38,
   "metadata": {},
   "outputs": [],
   "source": [
    "# start a local Dask client\n",
    "client = Client(n_workers=4,\n",
    "                threads_per_worker=2,\n",
    "                memory_limit='128GB') "
   ]
  },
  {
   "cell_type": "code",
   "execution_count": 39,
   "metadata": {},
   "outputs": [
    {
     "data": {
      "text/html": [
       "<table style=\"border: 2px solid white;\">\n",
       "<tr>\n",
       "<td style=\"vertical-align: top; border: 0px solid white\">\n",
       "<h3 style=\"text-align: left;\">Client</h3>\n",
       "<ul style=\"text-align: left; list-style: none; margin: 0; padding: 0;\">\n",
       "  <li><b>Scheduler: </b>tcp://127.0.0.1:50580</li>\n",
       "  <li><b>Dashboard: </b><a href='http://127.0.0.1:8787/status' target='_blank'>http://127.0.0.1:8787/status</a></li>\n",
       "</ul>\n",
       "</td>\n",
       "<td style=\"vertical-align: top; border: 0px solid white\">\n",
       "<h3 style=\"text-align: left;\">Cluster</h3>\n",
       "<ul style=\"text-align: left; list-style:none; margin: 0; padding: 0;\">\n",
       "  <li><b>Workers: </b>4</li>\n",
       "  <li><b>Cores: </b>8</li>\n",
       "  <li><b>Memory: </b>67.66 GB</li>\n",
       "</ul>\n",
       "</td>\n",
       "</tr>\n",
       "</table>"
      ],
      "text/plain": [
       "<Client: 'tcp://127.0.0.1:50580' processes=4 threads=8, memory=67.66 GB>"
      ]
     },
     "execution_count": 39,
     "metadata": {},
     "output_type": "execute_result"
    }
   ],
   "source": [
    "client #client.get_versions(check=True)"
   ]
  },
  {
   "cell_type": "code",
   "execution_count": 40,
   "metadata": {},
   "outputs": [
    {
     "name": "stdout",
     "output_type": "stream",
     "text": [
      "Wall time: 6h 47min 2s\n"
     ]
    }
   ],
   "source": [
    "import dask_ml.model_selection as dcv\n",
    "from sklearn.ensemble import RandomForestClassifier\n",
    "from sklearn.decomposition import PCA\n",
    "from sklearn.pipeline import Pipeline\n",
    "\n",
    "\n",
    "rf = RandomForestClassifier(class_weight = 'balanced')\n",
    "pca = PCA()\n",
    "pipe = Pipeline(steps=[('pca', pca),\n",
    "                       ('rf', rf)])\n",
    "\n",
    "# Create the parameter grid based on the results of random search 'bootstrap': [True, False],\n",
    "params = {\n",
    "    'pca__n_components': [10, 20, 30],\n",
    "    'rf__max_depth': [5, 8],\n",
    "    'rf__min_samples_leaf': [2, 5],\n",
    "    'rf__min_samples_split': [2, 5],\n",
    "    'rf__n_estimators': [100, 300]}\n",
    "\n",
    "\n",
    "rf_grid = dcv.GridSearchCV(pipe, params, cv = 3, n_jobs = -1)\n",
    "\n",
    "import joblib\n",
    "with joblib.parallel_backend('dask'):\n",
    "    %time rf_grid.fit(X_train, y_train)"
   ]
  },
  {
   "cell_type": "code",
   "execution_count": 41,
   "metadata": {},
   "outputs": [],
   "source": [
    "client.close()"
   ]
  },
  {
   "cell_type": "code",
   "execution_count": 42,
   "metadata": {
    "scrolled": true
   },
   "outputs": [
    {
     "data": {
      "text/plain": [
       "{'pca__n_components': 20,\n",
       " 'rf__max_depth': 8,\n",
       " 'rf__min_samples_leaf': 5,\n",
       " 'rf__min_samples_split': 2,\n",
       " 'rf__n_estimators': 300}"
      ]
     },
     "execution_count": 42,
     "metadata": {},
     "output_type": "execute_result"
    }
   ],
   "source": [
    "rf_grid.best_params_"
   ]
  },
  {
   "cell_type": "code",
   "execution_count": 43,
   "metadata": {},
   "outputs": [],
   "source": [
    "rf_grid_best = rf_grid.best_estimator_"
   ]
  },
  {
   "cell_type": "code",
   "execution_count": 44,
   "metadata": {},
   "outputs": [
    {
     "name": "stdout",
     "output_type": "stream",
     "text": [
      "Train Average Precision Score:0.5482098340913186\n",
      "Test Average Precision Score:0.5445413690093149\n"
     ]
    }
   ],
   "source": [
    "# Calculating average precision score for X_train\n",
    "apc_rf_train = average_precision_score(y_train, rf_grid_best.predict_proba(X_train)[:, 1])\n",
    "\n",
    "# Calculating average precision score for X_test\n",
    "apc_rf_test = average_precision_score(y_test, rf_grid_best.predict_proba(X_test)[:, 1])\n",
    "\n",
    "print(f'Train Average Precision Score:{apc_rf_train}')\n",
    "print(f'Test Average Precision Score:{apc_rf_test}')"
   ]
  },
  {
   "cell_type": "code",
   "execution_count": 45,
   "metadata": {},
   "outputs": [
    {
     "data": {
      "text/plain": [
       "Text(0.5, 1.0, '2-class Precision-Recall curve: AP=0.54')"
      ]
     },
     "execution_count": 45,
     "metadata": {},
     "output_type": "execute_result"
    },
    {
     "data": {
      "image/png": "[encoded data removed]",
      "text/plain": [
       "<Figure size 432x288 with 1 Axes>"
      ]
     },
     "metadata": {
      "needs_background": "light"
     },
     "output_type": "display_data"
    }
   ],
   "source": [
    "disp = plot_precision_recall_curve(rf_grid_best, X_test, y_test)\n",
    "disp.ax_.set_title('2-class Precision-Recall curve: '\n",
    "                   'AP={0:0.2f}'.format(apc_rf_test))"
   ]
  },
  {
   "cell_type": "code",
   "execution_count": 46,
   "metadata": {},
   "outputs": [
    {
     "name": "stdout",
     "output_type": "stream",
     "text": [
      "Train AUC Score:0.7018987159350695\n",
      "Test AUC Score:0.7015867434102367\n"
     ]
    }
   ],
   "source": [
    "# Calculating AUC score for X_train\n",
    "y_pred_rf_train = rf_grid_best.predict(X_train)\n",
    "fpr_rf_train, tpr_rf_train, thresholds_rf_train = roc_curve(y_train, y_pred_rf_train)\n",
    "auc_rf_train = auc(fpr_rf_train, tpr_rf_train)\n",
    "\n",
    "# Calculating AUC score for X_test\n",
    "y_pred_rf_test = rf_grid_best.predict(X_test)\n",
    "fpr_rf_test, tpr_rf_test, thresholds_rf_test = roc_curve(y_test, y_pred_rf_test)\n",
    "auc_rf_test = auc(fpr_rf_test, tpr_rf_test)                                                       \n",
    "\n",
    "print(f'Train AUC Score:{auc_rf_train}')\n",
    "print(f'Test AUC Score:{auc_rf_test}')"
   ]
  },
  {
   "cell_type": "code",
   "execution_count": 47,
   "metadata": {},
   "outputs": [
    {
     "data": {
      "image/png": "[encoded data removed]",
      "text/plain": [
       "<Figure size 576x432 with 1 Axes>"
      ]
     },
     "metadata": {
      "needs_background": "light"
     },
     "output_type": "display_data"
    }
   ],
   "source": [
    "plt.figure(figsize = (8, 6))\n",
    "lw = 2\n",
    "plt.plot(fpr_rf_test, tpr_rf_test, color='darkorange',\n",
    "         lw=lw, label='ROC curve (area = %0.2f)' %auc_rf_test)\n",
    "plt.plot([0, 1], [0, 1], color='navy', lw=lw, linestyle='--')\n",
    "plt.xlim([0.0, 1.0])\n",
    "plt.ylim([0.0, 1.05])\n",
    "plt.xlabel('False Positive Rate')\n",
    "plt.ylabel('True Positive Rate')\n",
    "plt.title('Receiver operating characteristic example')\n",
    "plt.legend(loc=\"lower right\")\n",
    "plt.show()"
   ]
  },
  {
   "cell_type": "code",
   "execution_count": 48,
   "metadata": {},
   "outputs": [
    {
     "data": {
      "image/png": "[encoded data removed]",
      "text/plain": [
       "<Figure size 432x432 with 2 Axes>"
      ]
     },
     "metadata": {
      "needs_background": "light"
     },
     "output_type": "display_data"
    }
   ],
   "source": [
    "fig, ax = plt.subplots(figsize = (6,6))\n",
    "plt.rcParams.update({'font.size': 16})\n",
    "plot_confusion_matrix(rf_grid_best, X_test, y_test, cmap=plt.cm.Blues, ax = ax, values_format = '') \n",
    "plt.show()"
   ]
  },
  {
   "cell_type": "code",
   "execution_count": 49,
   "metadata": {},
   "outputs": [
    {
     "name": "stdout",
     "output_type": "stream",
     "text": [
      "              precision    recall  f1-score   support\n",
      "\n",
      "         0.0       0.89      0.92      0.90    416616\n",
      "         1.0       0.57      0.49      0.52     95016\n",
      "\n",
      "    accuracy                           0.84    511632\n",
      "   macro avg       0.73      0.70      0.71    511632\n",
      "weighted avg       0.83      0.84      0.83    511632\n",
      "\n"
     ]
    }
   ],
   "source": [
    "print(classification_report(y_test, y_pred_rf_test))"
   ]
  },
  {
   "cell_type": "code",
   "execution_count": 50,
   "metadata": {},
   "outputs": [
    {
     "data": {
      "text/plain": [
       "0.7717954154020784"
      ]
     },
     "execution_count": 50,
     "metadata": {},
     "output_type": "execute_result"
    }
   ],
   "source": [
    "roc_auc_score(y_test, rf_grid_best.predict_proba(X_test)[:, 1])"
   ]
  },
  {
   "cell_type": "markdown",
   "metadata": {},
   "source": [
    "### *AdaBoostClassifier*"
   ]
  },
  {
   "cell_type": "code",
   "execution_count": 51,
   "metadata": {},
   "outputs": [],
   "source": [
    "# start a local Dask client\n",
    "client3 = Client(n_workers=4, \n",
    "                threads_per_worker=2,\n",
    "                memory_limit='128GB') "
   ]
  },
  {
   "cell_type": "code",
   "execution_count": 52,
   "metadata": {},
   "outputs": [
    {
     "data": {
      "text/html": [
       "<table style=\"border: 2px solid white;\">\n",
       "<tr>\n",
       "<td style=\"vertical-align: top; border: 0px solid white\">\n",
       "<h3 style=\"text-align: left;\">Client</h3>\n",
       "<ul style=\"text-align: left; list-style: none; margin: 0; padding: 0;\">\n",
       "  <li><b>Scheduler: </b>tcp://127.0.0.1:53373</li>\n",
       "  <li><b>Dashboard: </b><a href='http://127.0.0.1:8787/status' target='_blank'>http://127.0.0.1:8787/status</a></li>\n",
       "</ul>\n",
       "</td>\n",
       "<td style=\"vertical-align: top; border: 0px solid white\">\n",
       "<h3 style=\"text-align: left;\">Cluster</h3>\n",
       "<ul style=\"text-align: left; list-style:none; margin: 0; padding: 0;\">\n",
       "  <li><b>Workers: </b>4</li>\n",
       "  <li><b>Cores: </b>8</li>\n",
       "  <li><b>Memory: </b>67.66 GB</li>\n",
       "</ul>\n",
       "</td>\n",
       "</tr>\n",
       "</table>"
      ],
      "text/plain": [
       "<Client: 'tcp://127.0.0.1:53373' processes=4 threads=8, memory=67.66 GB>"
      ]
     },
     "execution_count": 52,
     "metadata": {},
     "output_type": "execute_result"
    }
   ],
   "source": [
    "client3"
   ]
  },
  {
   "cell_type": "code",
   "execution_count": 53,
   "metadata": {},
   "outputs": [
    {
     "name": "stdout",
     "output_type": "stream",
     "text": [
      "Wall time: 3h 9min 55s\n"
     ]
    }
   ],
   "source": [
    "import dask_ml.model_selection as dcv\n",
    "from sklearn.ensemble import AdaBoostClassifier\n",
    "\n",
    "ab = AdaBoostClassifier()\n",
    "pca = PCA()\n",
    "pipe = Pipeline(steps=[('pca', pca),\n",
    "                       ('ab', ab)])\n",
    "\n",
    "# Create the parameter grid based on the results of random search 'bootstrap': [True, False],\n",
    "params = {\n",
    "    'pca__n_components': [10, 20, 30],\n",
    "    'ab__learning_rate': [0.05, 0.5],\n",
    "    'ab__n_estimators': [100, 300]}\n",
    "\n",
    "ab_grid = dcv.GridSearchCV(pipe, params, cv = 3, n_jobs = -1)\n",
    "\n",
    "import joblib\n",
    "with joblib.parallel_backend('dask'):\n",
    "    %time ab_grid.fit(X_train, y_train)"
   ]
  },
  {
   "cell_type": "code",
   "execution_count": 54,
   "metadata": {},
   "outputs": [],
   "source": [
    "client3.close()"
   ]
  },
  {
   "cell_type": "code",
   "execution_count": 55,
   "metadata": {},
   "outputs": [
    {
     "data": {
      "text/plain": [
       "{'ab__learning_rate': 0.5, 'ab__n_estimators': 300, 'pca__n_components': 30}"
      ]
     },
     "execution_count": 55,
     "metadata": {},
     "output_type": "execute_result"
    }
   ],
   "source": [
    "ab_grid.best_params_"
   ]
  },
  {
   "cell_type": "code",
   "execution_count": 56,
   "metadata": {},
   "outputs": [],
   "source": [
    "ab_grid_best = ab_grid.best_estimator_"
   ]
  },
  {
   "cell_type": "code",
   "execution_count": 57,
   "metadata": {},
   "outputs": [
    {
     "name": "stdout",
     "output_type": "stream",
     "text": [
      "Train Average Precision Score:0.5663785827157962\n",
      "Test Average Precision Score:0.5670439387400201\n"
     ]
    }
   ],
   "source": [
    "# Calculating average precision score for X_train\n",
    "apc_ab_train = average_precision_score(y_train, ab_grid_best.predict_proba(X_train)[:, 1])\n",
    "\n",
    "# Calculating average precision score for X_test\n",
    "apc_ab_test = average_precision_score(y_test, ab_grid_best.predict_proba(X_test)[:, 1])\n",
    "\n",
    "print(f'Train Average Precision Score:{apc_ab_train}')\n",
    "print(f'Test Average Precision Score:{apc_ab_test}')"
   ]
  },
  {
   "cell_type": "code",
   "execution_count": 58,
   "metadata": {},
   "outputs": [
    {
     "data": {
      "text/plain": [
       "Text(0.5, 1.0, '2-class Precision-Recall curve: AP=0.57')"
      ]
     },
     "execution_count": 58,
     "metadata": {},
     "output_type": "execute_result"
    },
    {
     "data": {
      "image/png": "[encoded data removed]",
      "text/plain": [
       "<Figure size 432x288 with 1 Axes>"
      ]
     },
     "metadata": {
      "needs_background": "light"
     },
     "output_type": "display_data"
    }
   ],
   "source": [
    "disp = plot_precision_recall_curve(ab_grid_best, X_test, y_test)\n",
    "disp.ax_.set_title('2-class Precision-Recall curve: '\n",
    "                   'AP={0:0.2f}'.format(apc_ab_test))"
   ]
  },
  {
   "cell_type": "code",
   "execution_count": 59,
   "metadata": {},
   "outputs": [
    {
     "name": "stdout",
     "output_type": "stream",
     "text": [
      "Train AUC Score:0.6645545293953943\n",
      "Test AUC Score:0.6651941512612308\n"
     ]
    }
   ],
   "source": [
    "# Calculating AUC score for X_train\n",
    "y_pred_ab_train = ab_grid_best.predict(X_train)\n",
    "fpr_ab_train, tpr_ab_train, thresholds_ab_train = roc_curve(y_train, y_pred_ab_train)\n",
    "auc_ab_train = auc(fpr_ab_train, tpr_ab_train)\n",
    "\n",
    "# Calculating AUC score for X_test\n",
    "y_pred_ab_test = ab_grid_best.predict(X_test)\n",
    "fpr_ab_test, tpr_ab_test, thresholds_ab_test = roc_curve(y_test, y_pred_ab_test)\n",
    "auc_ab_test = auc(fpr_ab_test, tpr_ab_test)                                                       \n",
    "\n",
    "print(f'Train AUC Score:{auc_ab_train}')\n",
    "print(f'Test AUC Score:{auc_ab_test}')"
   ]
  },
  {
   "cell_type": "code",
   "execution_count": 60,
   "metadata": {},
   "outputs": [
    {
     "data": {
      "image/png": "[encoded data removed]",
      "text/plain": [
       "<Figure size 576x432 with 1 Axes>"
      ]
     },
     "metadata": {
      "needs_background": "light"
     },
     "output_type": "display_data"
    }
   ],
   "source": [
    "plt.figure(figsize = (8, 6))\n",
    "lw = 2\n",
    "plt.plot(fpr_ab_test, tpr_ab_test, color='darkorange',\n",
    "         lw=lw, label='ROC curve (area = %0.2f)' % auc_ab_test)\n",
    "plt.plot([0, 1], [0, 1], color='navy', lw=lw, linestyle='--')\n",
    "plt.xlim([0.0, 1.0])\n",
    "plt.ylim([0.0, 1.05])\n",
    "plt.xlabel('False Positive Rate')\n",
    "plt.ylabel('True Positive Rate')\n",
    "plt.title('Receiver operating characteristic example')\n",
    "plt.legend(loc=\"lower right\")\n",
    "plt.show()"
   ]
  },
  {
   "cell_type": "code",
   "execution_count": 61,
   "metadata": {},
   "outputs": [
    {
     "data": {
      "image/png": "[encoded data removed]",
      "text/plain": [
       "<Figure size 432x432 with 2 Axes>"
      ]
     },
     "metadata": {
      "needs_background": "light"
     },
     "output_type": "display_data"
    }
   ],
   "source": [
    "fig, ax = plt.subplots(figsize = (6,6))\n",
    "plt.rcParams.update({'font.size': 16})\n",
    "plot_confusion_matrix(ab_grid_best, X_test, y_test, cmap=plt.cm.Blues, ax = ax, values_format = '') \n",
    "plt.show()"
   ]
  },
  {
   "cell_type": "code",
   "execution_count": 62,
   "metadata": {
    "scrolled": true
   },
   "outputs": [
    {
     "name": "stdout",
     "output_type": "stream",
     "text": [
      "              precision    recall  f1-score   support\n",
      "\n",
      "         0.0       0.87      0.97      0.92    416616\n",
      "         1.0       0.73      0.36      0.48     95016\n",
      "\n",
      "    accuracy                           0.86    511632\n",
      "   macro avg       0.80      0.67      0.70    511632\n",
      "weighted avg       0.84      0.86      0.84    511632\n",
      "\n"
     ]
    }
   ],
   "source": [
    "print(classification_report(y_test, y_pred_ab_test))"
   ]
  },
  {
   "cell_type": "markdown",
   "metadata": {},
   "source": [
    "#### *Avergae Precision Score*"
   ]
  },
  {
   "cell_type": "markdown",
   "metadata": {},
   "source": [
    "*5-10 PCA components*"
   ]
  },
  {
   "cell_type": "markdown",
   "metadata": {},
   "source": [
    "| Classifier | Train Score | Test Score |\n",
    "| --- | --- | --- |\n",
    "| **Logistic Resgression** | **0.5166** | **0.5196** |\n",
    "| RandomForestClassifier | 0.4384 | 0.4347 |\n",
    "| AdaBoostClassifier | 0.4281 | 0.4282 |"
   ]
  },
  {
   "cell_type": "markdown",
   "metadata": {},
   "source": [
    "*5-30 PCA components*"
   ]
  },
  {
   "cell_type": "markdown",
   "metadata": {},
   "source": [
    "| Classifier | Train Score | Test Score |\n",
    "| --- | --- | --- |\n",
    "| Logistic Resgression | 0.5166 | 0.5196 |\n",
    "| RandomForestClassifier | 0.5482 | 0.5445 |\n",
    "| **AdaBoostClassifier** | **0.5664** | **0.5670** |"
   ]
  },
  {
   "cell_type": "markdown",
   "metadata": {},
   "source": [
    "#### *AUC Score*"
   ]
  },
  {
   "cell_type": "markdown",
   "metadata": {},
   "source": [
    "*5-10 PCA components*"
   ]
  },
  {
   "cell_type": "markdown",
   "metadata": {},
   "source": [
    "| Classifier | Train Score | Test Score |\n",
    "| --- | --- | --- |\n",
    "| **Logistic Resgression** | **0.6908** | **0.6927** |\n",
    "| RandomForestClassifier | 0.6649 | 0.6644 |\n",
    "| AdaBoostClassifier | 0.5465 | 0.5457 |"
   ]
  },
  {
   "cell_type": "markdown",
   "metadata": {},
   "source": [
    "*5-30 PCA components*"
   ]
  },
  {
   "cell_type": "markdown",
   "metadata": {},
   "source": [
    "| Classifier | Train Score | Test Score |\n",
    "| --- | --- | --- |\n",
    "| Logistic Resgression | 0.6908 | 0.6928 |\n",
    "| **RandomForestClassifier** | **0.7019** | **0.7159** |\n",
    "| AdaBoostClassifier | 0.6645 | 0.6652 |"
   ]
  },
  {
   "cell_type": "markdown",
   "metadata": {},
   "source": [
    "All the models used to train the data have outperformed the base line. The best suggested model by using Tune is Logitic Regression and Dask is AdaBoost Classifier. Considering average precision as metric since target classes are imbalanced.  "
   ]
  },
  {
   "cell_type": "markdown",
   "metadata": {},
   "source": [
    "### *Feature Importances*"
   ]
  },
  {
   "cell_type": "code",
   "execution_count": 71,
   "metadata": {},
   "outputs": [
    {
     "data": {
      "image/png": "[encoded data removed]",
      "text/plain": [
       "<Figure size 864x864 with 1 Axes>"
      ]
     },
     "metadata": {
      "needs_background": "light"
     },
     "output_type": "display_data"
    }
   ],
   "source": [
    "features = X_train.columns\n",
    "importances = ab_grid_best._final_estimator.feature_importances_\n",
    "indices = np.argsort(importances)\n",
    "\n",
    "plt.figure(figsize=(12,12))\n",
    "plt.title('Feature Importances')\n",
    "plt.barh(range(len(indices)), importances[indices], color='b', align='center')\n",
    "plt.yticks(range(len(indices)), [features[i] for i in indices])\n",
    "plt.xlabel('Relative Importance')\n",
    "plt.show()"
   ]
  },
  {
   "cell_type": "markdown",
   "metadata": {},
   "source": [
    "Conclusions:\n",
    "\n",
    "The dataset used for the project contains local flight data for the months January, February and March for the year 2019, does not take into considerations any weather conditions or natural calamities into account. \n",
    "\n",
    "Next Steps:\n",
    "\n",
    "we plan to identify the significance of each feature by using stats models. Also, according to the Federal Aviation Administration, most of the delays in winter are due to surface winds, low ceiling and low visibility, whereas during summer the majority of delays is attributable to convective weather, low ceiling and associated low visibility (Federal Aviation Administration, 2017). It will be wise to include daily weather data, like wind, speed and precipitation rate, for each origin and destination location for each flight."
   ]
  }
 ],
 "metadata": {
  "kernelspec": {
   "display_name": "Python 3",
   "language": "python",
   "name": "python3"
  },
  "language_info": {
   "codemirror_mode": {
    "name": "ipython",
    "version": 3
   },
   "file_extension": ".py",
   "mimetype": "text/x-python",
   "name": "python",
   "nbconvert_exporter": "python",
   "pygments_lexer": "ipython3",
   "version": "3.8.5"
  }
 },
 "nbformat": 4,
 "nbformat_minor": 4
}
