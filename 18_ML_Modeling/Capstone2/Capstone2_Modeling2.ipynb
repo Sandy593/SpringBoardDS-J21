{
 "cells": [
  {
   "cell_type": "code",
   "execution_count": 1,
   "metadata": {},
   "outputs": [],
   "source": [
    "%load_ext autoreload\n",
    "%autoreload 2\n",
    "\n",
    "%matplotlib inline"
   ]
  },
  {
   "cell_type": "code",
   "execution_count": 2,
   "metadata": {},
   "outputs": [],
   "source": [
    "import pandas as pd\n",
    "import numpy as np\n",
    "import datetime\n",
    "import matplotlib.pyplot as plt\n",
    "import seaborn as sns\n",
    "\n",
    "from distributed import Client\n",
    "from tune import Space, Grid, Rand, RandInt, Choice\n",
    "from tune_sklearn import sk_space, suggest_sk_models, suggest_sk_models_by_cv\n",
    "\n",
    "from sklearn.linear_model import LogisticRegression\n",
    "from sklearn.ensemble import RandomForestClassifier, GradientBoostingClassifier\n",
    "from xgboost import XGBClassifier\n",
    "from sklearn.svm import SVC\n",
    "\n",
    "from sklearn.metrics import roc_auc_score\n",
    "from sklearn.metrics import roc_curve, auc\n",
    "from sklearn.metrics import plot_confusion_matrix\n",
    "from sklearn.metrics import classification_report\n",
    "from sklearn.metrics import average_precision_score\n",
    "from sklearn.metrics import plot_precision_recall_curve"
   ]
  },
  {
   "cell_type": "code",
   "execution_count": 3,
   "metadata": {},
   "outputs": [
    {
     "data": {
      "application/javascript": [
       "\n",
       "require([\"codemirror/lib/codemirror\"]);\n",
       "function set(str) {\n",
       "    var obj = {}, words = str.split(\" \");\n",
       "    for (var i = 0; i < words.length; ++i) obj[words[i]] = true;\n",
       "    return obj;\n",
       "  }\n",
       "var fugue_keywords = \"fill hash rand even presort persist broadcast params process output outtransform rowcount concurrency prepartition zip print title save append parquet csv json single checkpoint weak strong deterministic yield connect sample seed take sub callback dataframe file\";\n",
       "CodeMirror.defineMIME(\"text/x-fsql\", {\n",
       "    name: \"sql\",\n",
       "    keywords: set(fugue_keywords + \" add after all alter analyze and anti archive array as asc at between bucket buckets by cache cascade case cast change clear cluster clustered codegen collection column columns comment commit compact compactions compute concatenate cost create cross cube current current_date current_timestamp database databases data dbproperties defined delete delimited deny desc describe dfs directories distinct distribute drop else end escaped except exchange exists explain export extended external false fields fileformat first following for format formatted from full function functions global grant group grouping having if ignore import in index indexes inner inpath inputformat insert intersect interval into is items join keys last lateral lazy left like limit lines list load local location lock locks logical macro map minus msck natural no not null nulls of on optimize option options or order out outer outputformat over overwrite partition partitioned partitions percent preceding principals purge range recordreader recordwriter recover reduce refresh regexp rename repair replace reset restrict revoke right rlike role roles rollback rollup row rows schema schemas select semi separated serde serdeproperties set sets show skewed sort sorted start statistics stored stratify struct table tables tablesample tblproperties temp temporary terminated then to touch transaction transactions transform true truncate unarchive unbounded uncache union unlock unset use using values view when where window with\"),\n",
       "    builtin: set(\"date datetime tinyint smallint int bigint boolean float double string binary timestamp decimal array map struct uniontype delimited serde sequencefile textfile rcfile inputformat outputformat\"),\n",
       "    atoms: set(\"false true null\"),\n",
       "    operatorChars: /^[*\\/+\\-%<>!=~&|^]/,\n",
       "    dateSQL: set(\"time\"),\n",
       "    support: set(\"ODBCdotTable doubleQuote zerolessFloat\")\n",
       "  });\n",
       "\n",
       "CodeMirror.modeInfo.push( {\n",
       "            name: \"Fugue SQL\",\n",
       "            mime: \"text/x-fsql\",\n",
       "            mode: \"sql\"\n",
       "          } );\n",
       "\n",
       "require(['notebook/js/codecell'], function(codecell) {\n",
       "    codecell.CodeCell.options_default.highlight_modes['magic_text/x-fsql'] = {'reg':[/%%fsql/]} ;\n",
       "    Jupyter.notebook.events.on('kernel_ready.Kernel', function(){\n",
       "    Jupyter.notebook.get_cells().map(function(cell){\n",
       "        if (cell.cell_type == 'code'){ cell.auto_highlight(); } }) ;\n",
       "    });\n",
       "  });\n"
      ],
      "text/plain": [
       "<IPython.core.display.Javascript object>"
      ]
     },
     "execution_count": 3,
     "metadata": {},
     "output_type": "execute_result"
    }
   ],
   "source": [
    "from fugue_notebook import setup\n",
    "setup()"
   ]
  },
  {
   "cell_type": "code",
   "execution_count": 4,
   "metadata": {},
   "outputs": [],
   "source": [
    "import warnings\n",
    "warnings.filterwarnings('ignore')"
   ]
  },
  {
   "cell_type": "markdown",
   "metadata": {},
   "source": [
    "## *Load Cleaned Data using DASK*"
   ]
  },
  {
   "cell_type": "code",
   "execution_count": 5,
   "metadata": {},
   "outputs": [],
   "source": [
    "pd.options.display.max_columns = None\n",
    "pd.options.display.max_rows = None"
   ]
  },
  {
   "cell_type": "code",
   "execution_count": 6,
   "metadata": {},
   "outputs": [
    {
     "name": "stdout",
     "output_type": "stream",
     "text": [
      "Wall time: 19.8 ms\n"
     ]
    }
   ],
   "source": [
    "import dask.dataframe as dd\n",
    "%time df = dd.read_csv('04_Pre_Processed.csv') "
   ]
  },
  {
   "cell_type": "code",
   "execution_count": 7,
   "metadata": {},
   "outputs": [
    {
     "data": {
      "text/html": [
       "<div>\n",
       "<style scoped>\n",
       "    .dataframe tbody tr th:only-of-type {\n",
       "        vertical-align: middle;\n",
       "    }\n",
       "\n",
       "    .dataframe tbody tr th {\n",
       "        vertical-align: top;\n",
       "    }\n",
       "\n",
       "    .dataframe thead th {\n",
       "        text-align: right;\n",
       "    }\n",
       "</style>\n",
       "<table border=\"1\" class=\"dataframe\">\n",
       "  <thead>\n",
       "    <tr style=\"text-align: right;\">\n",
       "      <th></th>\n",
       "      <th>YEAR</th>\n",
       "      <th>QUARTER</th>\n",
       "      <th>MONTH</th>\n",
       "      <th>DAY_OF_MONTH</th>\n",
       "      <th>DAY_OF_WEEK</th>\n",
       "      <th>OP_UNIQUE_CARRIER</th>\n",
       "      <th>TAIL_NUM</th>\n",
       "      <th>OP_CARRIER_FL_NUM</th>\n",
       "      <th>ORIGIN_CITY_MARKET_ID</th>\n",
       "      <th>ORIGIN_CITY_NAME</th>\n",
       "      <th>ORIGIN_STATE_FIPS</th>\n",
       "      <th>ORIGIN_STATE_NM</th>\n",
       "      <th>ORIGIN_WAC</th>\n",
       "      <th>DEST_CITY_MARKET_ID</th>\n",
       "      <th>DEST_CITY_NAME</th>\n",
       "      <th>DEST_STATE_FIPS</th>\n",
       "      <th>DEST_STATE_NM</th>\n",
       "      <th>DEST_WAC</th>\n",
       "      <th>CRS_DEP_TIME</th>\n",
       "      <th>DEP_TIME</th>\n",
       "      <th>DEP_DELAY</th>\n",
       "      <th>DEP_DELAY_NEW</th>\n",
       "      <th>DEP_DEL15</th>\n",
       "      <th>DEP_DELAY_GROUP</th>\n",
       "      <th>CRS_ARR_TIME</th>\n",
       "      <th>CANCELLED</th>\n",
       "      <th>DIVERTED</th>\n",
       "      <th>CRS_ELAPSED_TIME</th>\n",
       "      <th>AIR_TIME</th>\n",
       "      <th>DISTANCE</th>\n",
       "      <th>DIV_AIRPORT_LANDINGS</th>\n",
       "      <th>CRS_DEP_TIME_MNT</th>\n",
       "      <th>CRS_DEP_TIME_MNT_norm</th>\n",
       "      <th>DEP_TIME_MNT</th>\n",
       "      <th>DEP_TIME_norm</th>\n",
       "      <th>FLIGHT_COUNT</th>\n",
       "      <th>PRIOR_ORIGIN_CITY_NAME</th>\n",
       "      <th>PRIOR_DELAY</th>\n",
       "      <th>PRIOR_DEP_MNT</th>\n",
       "      <th>Is_month_end</th>\n",
       "      <th>Is_month_start</th>\n",
       "      <th>Is_quarter_end</th>\n",
       "      <th>Is_quarter_start</th>\n",
       "      <th>Is_year_end</th>\n",
       "      <th>Is_year_start</th>\n",
       "      <th>BEGINING_OF_MONTH</th>\n",
       "      <th>MIDDLE_OF_MONTH</th>\n",
       "      <th>END_OF_MONTH</th>\n",
       "      <th>HOUR</th>\n",
       "      <th>MORNING</th>\n",
       "      <th>DAY</th>\n",
       "      <th>EVENING</th>\n",
       "      <th>NIGHT</th>\n",
       "      <th>WINTER</th>\n",
       "      <th>SPRING</th>\n",
       "      <th>SUMMER</th>\n",
       "      <th>AUTUMN</th>\n",
       "      <th>WEEKEND</th>\n",
       "      <th>WEEKDAY</th>\n",
       "      <th>DEPTIME_COS</th>\n",
       "      <th>DEPTIME_SIN</th>\n",
       "    </tr>\n",
       "  </thead>\n",
       "  <tbody>\n",
       "    <tr>\n",
       "      <th>0</th>\n",
       "      <td>2019</td>\n",
       "      <td>1</td>\n",
       "      <td>1</td>\n",
       "      <td>1</td>\n",
       "      <td>2</td>\n",
       "      <td>7</td>\n",
       "      <td>0</td>\n",
       "      <td>1670</td>\n",
       "      <td>34082</td>\n",
       "      <td>252</td>\n",
       "      <td>12</td>\n",
       "      <td>7</td>\n",
       "      <td>33</td>\n",
       "      <td>34512</td>\n",
       "      <td>263</td>\n",
       "      <td>17</td>\n",
       "      <td>11</td>\n",
       "      <td>41</td>\n",
       "      <td>810</td>\n",
       "      <td>805</td>\n",
       "      <td>-5.0</td>\n",
       "      <td>0.0</td>\n",
       "      <td>0.0</td>\n",
       "      <td>-1.0</td>\n",
       "      <td>956</td>\n",
       "      <td>0.0</td>\n",
       "      <td>0.0</td>\n",
       "      <td>166.0</td>\n",
       "      <td>146.0</td>\n",
       "      <td>1127.0</td>\n",
       "      <td>0</td>\n",
       "      <td>490</td>\n",
       "      <td>2.139514</td>\n",
       "      <td>485</td>\n",
       "      <td>2.116212</td>\n",
       "      <td>1</td>\n",
       "      <td>220</td>\n",
       "      <td>0.0</td>\n",
       "      <td>0.000000</td>\n",
       "      <td>0</td>\n",
       "      <td>1</td>\n",
       "      <td>0</td>\n",
       "      <td>1</td>\n",
       "      <td>0</td>\n",
       "      <td>1</td>\n",
       "      <td>1</td>\n",
       "      <td>0</td>\n",
       "      <td>0</td>\n",
       "      <td>8</td>\n",
       "      <td>1</td>\n",
       "      <td>0</td>\n",
       "      <td>0</td>\n",
       "      <td>0</td>\n",
       "      <td>1</td>\n",
       "      <td>0</td>\n",
       "      <td>0</td>\n",
       "      <td>0</td>\n",
       "      <td>0</td>\n",
       "      <td>1</td>\n",
       "      <td>0.999985</td>\n",
       "      <td>0.005540</td>\n",
       "    </tr>\n",
       "    <tr>\n",
       "      <th>1</th>\n",
       "      <td>2019</td>\n",
       "      <td>1</td>\n",
       "      <td>1</td>\n",
       "      <td>1</td>\n",
       "      <td>2</td>\n",
       "      <td>7</td>\n",
       "      <td>0</td>\n",
       "      <td>1671</td>\n",
       "      <td>34512</td>\n",
       "      <td>263</td>\n",
       "      <td>17</td>\n",
       "      <td>11</td>\n",
       "      <td>41</td>\n",
       "      <td>34082</td>\n",
       "      <td>252</td>\n",
       "      <td>12</td>\n",
       "      <td>7</td>\n",
       "      <td>33</td>\n",
       "      <td>1041</td>\n",
       "      <td>1127</td>\n",
       "      <td>46.0</td>\n",
       "      <td>46.0</td>\n",
       "      <td>1.0</td>\n",
       "      <td>3.0</td>\n",
       "      <td>1422</td>\n",
       "      <td>0.0</td>\n",
       "      <td>0.0</td>\n",
       "      <td>161.0</td>\n",
       "      <td>153.0</td>\n",
       "      <td>1127.0</td>\n",
       "      <td>0</td>\n",
       "      <td>641</td>\n",
       "      <td>2.798834</td>\n",
       "      <td>687</td>\n",
       "      <td>2.997603</td>\n",
       "      <td>2</td>\n",
       "      <td>252</td>\n",
       "      <td>0.0</td>\n",
       "      <td>2.139514</td>\n",
       "      <td>0</td>\n",
       "      <td>1</td>\n",
       "      <td>0</td>\n",
       "      <td>1</td>\n",
       "      <td>0</td>\n",
       "      <td>1</td>\n",
       "      <td>1</td>\n",
       "      <td>0</td>\n",
       "      <td>0</td>\n",
       "      <td>11</td>\n",
       "      <td>1</td>\n",
       "      <td>0</td>\n",
       "      <td>0</td>\n",
       "      <td>0</td>\n",
       "      <td>1</td>\n",
       "      <td>0</td>\n",
       "      <td>0</td>\n",
       "      <td>0</td>\n",
       "      <td>0</td>\n",
       "      <td>1</td>\n",
       "      <td>0.999969</td>\n",
       "      <td>0.007848</td>\n",
       "    </tr>\n",
       "    <tr>\n",
       "      <th>2</th>\n",
       "      <td>2019</td>\n",
       "      <td>1</td>\n",
       "      <td>1</td>\n",
       "      <td>2</td>\n",
       "      <td>3</td>\n",
       "      <td>7</td>\n",
       "      <td>0</td>\n",
       "      <td>890</td>\n",
       "      <td>33195</td>\n",
       "      <td>299</td>\n",
       "      <td>12</td>\n",
       "      <td>7</td>\n",
       "      <td>33</td>\n",
       "      <td>31823</td>\n",
       "      <td>105</td>\n",
       "      <td>18</td>\n",
       "      <td>12</td>\n",
       "      <td>42</td>\n",
       "      <td>630</td>\n",
       "      <td>622</td>\n",
       "      <td>-8.0</td>\n",
       "      <td>0.0</td>\n",
       "      <td>0.0</td>\n",
       "      <td>-1.0</td>\n",
       "      <td>852</td>\n",
       "      <td>0.0</td>\n",
       "      <td>0.0</td>\n",
       "      <td>142.0</td>\n",
       "      <td>124.0</td>\n",
       "      <td>912.0</td>\n",
       "      <td>0</td>\n",
       "      <td>390</td>\n",
       "      <td>1.702879</td>\n",
       "      <td>382</td>\n",
       "      <td>1.666789</td>\n",
       "      <td>1</td>\n",
       "      <td>220</td>\n",
       "      <td>0.0</td>\n",
       "      <td>0.000000</td>\n",
       "      <td>0</td>\n",
       "      <td>0</td>\n",
       "      <td>0</td>\n",
       "      <td>0</td>\n",
       "      <td>0</td>\n",
       "      <td>0</td>\n",
       "      <td>1</td>\n",
       "      <td>0</td>\n",
       "      <td>0</td>\n",
       "      <td>6</td>\n",
       "      <td>0</td>\n",
       "      <td>0</td>\n",
       "      <td>0</td>\n",
       "      <td>1</td>\n",
       "      <td>1</td>\n",
       "      <td>0</td>\n",
       "      <td>0</td>\n",
       "      <td>0</td>\n",
       "      <td>0</td>\n",
       "      <td>1</td>\n",
       "      <td>0.999990</td>\n",
       "      <td>0.004364</td>\n",
       "    </tr>\n",
       "    <tr>\n",
       "      <th>3</th>\n",
       "      <td>2019</td>\n",
       "      <td>1</td>\n",
       "      <td>1</td>\n",
       "      <td>2</td>\n",
       "      <td>3</td>\n",
       "      <td>7</td>\n",
       "      <td>0</td>\n",
       "      <td>891</td>\n",
       "      <td>31823</td>\n",
       "      <td>105</td>\n",
       "      <td>18</td>\n",
       "      <td>12</td>\n",
       "      <td>42</td>\n",
       "      <td>33195</td>\n",
       "      <td>299</td>\n",
       "      <td>12</td>\n",
       "      <td>7</td>\n",
       "      <td>33</td>\n",
       "      <td>937</td>\n",
       "      <td>929</td>\n",
       "      <td>-8.0</td>\n",
       "      <td>0.0</td>\n",
       "      <td>0.0</td>\n",
       "      <td>-1.0</td>\n",
       "      <td>1155</td>\n",
       "      <td>0.0</td>\n",
       "      <td>0.0</td>\n",
       "      <td>138.0</td>\n",
       "      <td>126.0</td>\n",
       "      <td>912.0</td>\n",
       "      <td>0</td>\n",
       "      <td>577</td>\n",
       "      <td>2.519387</td>\n",
       "      <td>569</td>\n",
       "      <td>2.482731</td>\n",
       "      <td>2</td>\n",
       "      <td>298</td>\n",
       "      <td>0.0</td>\n",
       "      <td>1.702879</td>\n",
       "      <td>0</td>\n",
       "      <td>0</td>\n",
       "      <td>0</td>\n",
       "      <td>0</td>\n",
       "      <td>0</td>\n",
       "      <td>0</td>\n",
       "      <td>1</td>\n",
       "      <td>0</td>\n",
       "      <td>0</td>\n",
       "      <td>9</td>\n",
       "      <td>1</td>\n",
       "      <td>0</td>\n",
       "      <td>0</td>\n",
       "      <td>0</td>\n",
       "      <td>1</td>\n",
       "      <td>0</td>\n",
       "      <td>0</td>\n",
       "      <td>0</td>\n",
       "      <td>0</td>\n",
       "      <td>1</td>\n",
       "      <td>0.999979</td>\n",
       "      <td>0.006500</td>\n",
       "    </tr>\n",
       "    <tr>\n",
       "      <th>4</th>\n",
       "      <td>2019</td>\n",
       "      <td>1</td>\n",
       "      <td>1</td>\n",
       "      <td>2</td>\n",
       "      <td>3</td>\n",
       "      <td>7</td>\n",
       "      <td>0</td>\n",
       "      <td>1203</td>\n",
       "      <td>33195</td>\n",
       "      <td>299</td>\n",
       "      <td>12</td>\n",
       "      <td>7</td>\n",
       "      <td>33</td>\n",
       "      <td>30431</td>\n",
       "      <td>14</td>\n",
       "      <td>37</td>\n",
       "      <td>31</td>\n",
       "      <td>36</td>\n",
       "      <td>1314</td>\n",
       "      <td>1308</td>\n",
       "      <td>-6.0</td>\n",
       "      <td>0.0</td>\n",
       "      <td>0.0</td>\n",
       "      <td>-1.0</td>\n",
       "      <td>1448</td>\n",
       "      <td>0.0</td>\n",
       "      <td>0.0</td>\n",
       "      <td>94.0</td>\n",
       "      <td>73.0</td>\n",
       "      <td>519.0</td>\n",
       "      <td>0</td>\n",
       "      <td>794</td>\n",
       "      <td>3.466886</td>\n",
       "      <td>788</td>\n",
       "      <td>3.438299</td>\n",
       "      <td>3</td>\n",
       "      <td>105</td>\n",
       "      <td>0.0</td>\n",
       "      <td>2.519387</td>\n",
       "      <td>0</td>\n",
       "      <td>0</td>\n",
       "      <td>0</td>\n",
       "      <td>0</td>\n",
       "      <td>0</td>\n",
       "      <td>0</td>\n",
       "      <td>1</td>\n",
       "      <td>0</td>\n",
       "      <td>0</td>\n",
       "      <td>13</td>\n",
       "      <td>0</td>\n",
       "      <td>1</td>\n",
       "      <td>0</td>\n",
       "      <td>0</td>\n",
       "      <td>1</td>\n",
       "      <td>0</td>\n",
       "      <td>0</td>\n",
       "      <td>0</td>\n",
       "      <td>0</td>\n",
       "      <td>1</td>\n",
       "      <td>0.999959</td>\n",
       "      <td>0.009001</td>\n",
       "    </tr>\n",
       "  </tbody>\n",
       "</table>\n",
       "</div>"
      ],
      "text/plain": [
       "   YEAR  QUARTER  MONTH  DAY_OF_MONTH  DAY_OF_WEEK  OP_UNIQUE_CARRIER  \\\n",
       "0  2019        1      1             1            2                  7   \n",
       "1  2019        1      1             1            2                  7   \n",
       "2  2019        1      1             2            3                  7   \n",
       "3  2019        1      1             2            3                  7   \n",
       "4  2019        1      1             2            3                  7   \n",
       "\n",
       "   TAIL_NUM  OP_CARRIER_FL_NUM  ORIGIN_CITY_MARKET_ID  ORIGIN_CITY_NAME  \\\n",
       "0         0               1670                  34082               252   \n",
       "1         0               1671                  34512               263   \n",
       "2         0                890                  33195               299   \n",
       "3         0                891                  31823               105   \n",
       "4         0               1203                  33195               299   \n",
       "\n",
       "   ORIGIN_STATE_FIPS  ORIGIN_STATE_NM  ORIGIN_WAC  DEST_CITY_MARKET_ID  \\\n",
       "0                 12                7          33                34512   \n",
       "1                 17               11          41                34082   \n",
       "2                 12                7          33                31823   \n",
       "3                 18               12          42                33195   \n",
       "4                 12                7          33                30431   \n",
       "\n",
       "   DEST_CITY_NAME  DEST_STATE_FIPS  DEST_STATE_NM  DEST_WAC  CRS_DEP_TIME  \\\n",
       "0             263               17             11        41           810   \n",
       "1             252               12              7        33          1041   \n",
       "2             105               18             12        42           630   \n",
       "3             299               12              7        33           937   \n",
       "4              14               37             31        36          1314   \n",
       "\n",
       "   DEP_TIME  DEP_DELAY  DEP_DELAY_NEW  DEP_DEL15  DEP_DELAY_GROUP  \\\n",
       "0       805       -5.0            0.0        0.0             -1.0   \n",
       "1      1127       46.0           46.0        1.0              3.0   \n",
       "2       622       -8.0            0.0        0.0             -1.0   \n",
       "3       929       -8.0            0.0        0.0             -1.0   \n",
       "4      1308       -6.0            0.0        0.0             -1.0   \n",
       "\n",
       "   CRS_ARR_TIME  CANCELLED  DIVERTED  CRS_ELAPSED_TIME  AIR_TIME  DISTANCE  \\\n",
       "0           956        0.0       0.0             166.0     146.0    1127.0   \n",
       "1          1422        0.0       0.0             161.0     153.0    1127.0   \n",
       "2           852        0.0       0.0             142.0     124.0     912.0   \n",
       "3          1155        0.0       0.0             138.0     126.0     912.0   \n",
       "4          1448        0.0       0.0              94.0      73.0     519.0   \n",
       "\n",
       "   DIV_AIRPORT_LANDINGS  CRS_DEP_TIME_MNT  CRS_DEP_TIME_MNT_norm  \\\n",
       "0                     0               490               2.139514   \n",
       "1                     0               641               2.798834   \n",
       "2                     0               390               1.702879   \n",
       "3                     0               577               2.519387   \n",
       "4                     0               794               3.466886   \n",
       "\n",
       "   DEP_TIME_MNT  DEP_TIME_norm  FLIGHT_COUNT  PRIOR_ORIGIN_CITY_NAME  \\\n",
       "0           485       2.116212             1                     220   \n",
       "1           687       2.997603             2                     252   \n",
       "2           382       1.666789             1                     220   \n",
       "3           569       2.482731             2                     298   \n",
       "4           788       3.438299             3                     105   \n",
       "\n",
       "   PRIOR_DELAY  PRIOR_DEP_MNT  Is_month_end  Is_month_start  Is_quarter_end  \\\n",
       "0          0.0       0.000000             0               1               0   \n",
       "1          0.0       2.139514             0               1               0   \n",
       "2          0.0       0.000000             0               0               0   \n",
       "3          0.0       1.702879             0               0               0   \n",
       "4          0.0       2.519387             0               0               0   \n",
       "\n",
       "   Is_quarter_start  Is_year_end  Is_year_start  BEGINING_OF_MONTH  \\\n",
       "0                 1            0              1                  1   \n",
       "1                 1            0              1                  1   \n",
       "2                 0            0              0                  1   \n",
       "3                 0            0              0                  1   \n",
       "4                 0            0              0                  1   \n",
       "\n",
       "   MIDDLE_OF_MONTH  END_OF_MONTH  HOUR  MORNING  DAY  EVENING  NIGHT  WINTER  \\\n",
       "0                0             0     8        1    0        0      0       1   \n",
       "1                0             0    11        1    0        0      0       1   \n",
       "2                0             0     6        0    0        0      1       1   \n",
       "3                0             0     9        1    0        0      0       1   \n",
       "4                0             0    13        0    1        0      0       1   \n",
       "\n",
       "   SPRING  SUMMER  AUTUMN  WEEKEND  WEEKDAY  DEPTIME_COS  DEPTIME_SIN  \n",
       "0       0       0       0        0        1     0.999985     0.005540  \n",
       "1       0       0       0        0        1     0.999969     0.007848  \n",
       "2       0       0       0        0        1     0.999990     0.004364  \n",
       "3       0       0       0        0        1     0.999979     0.006500  \n",
       "4       0       0       0        0        1     0.999959     0.009001  "
      ]
     },
     "execution_count": 7,
     "metadata": {},
     "output_type": "execute_result"
    }
   ],
   "source": [
    "df.head()"
   ]
  },
  {
   "cell_type": "code",
   "execution_count": 8,
   "metadata": {},
   "outputs": [
    {
     "data": {
      "text/plain": [
       "(1700781, 61)"
      ]
     },
     "execution_count": 8,
     "metadata": {},
     "output_type": "execute_result"
    }
   ],
   "source": [
    "df.compute().shape"
   ]
  },
  {
   "cell_type": "code",
   "execution_count": 9,
   "metadata": {},
   "outputs": [
    {
     "data": {
      "text/plain": [
       "0.0    0.814923\n",
       "1.0    0.185077\n",
       "Name: DEP_DEL15, dtype: float64"
      ]
     },
     "execution_count": 9,
     "metadata": {},
     "output_type": "execute_result"
    }
   ],
   "source": [
    "df['DEP_DEL15'].compute().value_counts(normalize = True)"
   ]
  },
  {
   "cell_type": "markdown",
   "metadata": {},
   "source": [
    "### *Scalable Hyperparameter Tuning*"
   ]
  },
  {
   "cell_type": "code",
   "execution_count": 10,
   "metadata": {},
   "outputs": [],
   "source": [
    "dft = df.compute().rename({'DEP_DEL15': 'label'}, axis='columns')"
   ]
  },
  {
   "cell_type": "code",
   "execution_count": 11,
   "metadata": {},
   "outputs": [
    {
     "data": {
      "text/plain": [
       "pandas.core.frame.DataFrame"
      ]
     },
     "execution_count": 11,
     "metadata": {},
     "output_type": "execute_result"
    }
   ],
   "source": [
    "type(dft)"
   ]
  },
  {
   "cell_type": "code",
   "execution_count": 12,
   "metadata": {},
   "outputs": [
    {
     "data": {
      "text/plain": [
       "(1700781, 61)"
      ]
     },
     "execution_count": 12,
     "metadata": {},
     "output_type": "execute_result"
    }
   ],
   "source": [
    "dft = dft.sample(frac = 1)\n",
    "dft.shape"
   ]
  },
  {
   "cell_type": "code",
   "execution_count": 13,
   "metadata": {},
   "outputs": [],
   "source": [
    "space = sum([\n",
    "    sk_space(LogisticRegression, \n",
    "             random_state=0,\n",
    "             C = Grid(0.001,0.01, 0.1, 1)),\n",
    "    sk_space(RandomForestClassifier,\n",
    "             random_state=0,\n",
    "             criterion = Grid('entropy', 'gini'), \n",
    "             max_depth = Rand(5, 8, 10), \n",
    "             max_features = Grid('auto', 'sqrt'),\n",
    "             min_samples_leaf = Rand(4, 6, 8),\n",
    "             min_samples_split = Rand(5, 7,10),\n",
    "             n_estimators = Grid(100, 200, 300),\n",
    "             n_jobs = -1),\n",
    "    sk_space(SVC(), \n",
    "             random_state=0,\n",
    "             C = Grid(0.1, 1, 10, 100, 1000), \n",
    "             gamma = Rand(0.0001, 0.001, 0.01, 0.1, 1),\n",
    "             kernel = 'rbf'),\n",
    "    sk_space(GradientBoostingClassifier(),\n",
    "             random_state=0,\n",
    "             max_depth=8, min_samples_split=2, max_features='sqrt',\n",
    "             learning_rate = Rand(0.001, 0.005, 0.01, 0.05, 0.1),\n",
    "             n_estimators = Grid(100,300,500))\n",
    "])"
   ]
  },
  {
   "cell_type": "code",
   "execution_count": 14,
   "metadata": {},
   "outputs": [
    {
     "data": {
      "text/plain": [
       "24"
      ]
     },
     "execution_count": 14,
     "metadata": {},
     "output_type": "execute_result"
    }
   ],
   "source": [
    "len(list(space))"
   ]
  },
  {
   "cell_type": "code",
   "execution_count": 15,
   "metadata": {},
   "outputs": [
    {
     "name": "stderr",
     "output_type": "stream",
     "text": [
      "NativeExecutionEngine doesn't respect num_partitions ROWCOUNT\n"
     ]
    },
    {
     "name": "stdout",
     "output_type": "stream",
     "text": [
      "Wall time: 15min 3s\n"
     ]
    }
   ],
   "source": [
    "%time result = suggest_sk_models_by_cv(space, train_df = dft, cv = 5, temp_path = r\"C:\\Users\\Soundarya.Rupavatara\\OneDrive - Clyde Industries Inc\\Desktop\\Springboard\\SpringBoardDS-J21\\18_ML_Modeling\\Capstone2\", scoring=\"roc_auc\")\n",
    "\n",
    "#suggest_sk_models_by_cv(space, train_df, scoring, cv, temp_path, feature_prefix, label_col, \n",
    "#                        save_model, partition_keys, top_n, objective_runner, monitor, distributed, \n",
    "#                        execution_engine, execution_engine_conf)"
   ]
  },
  {
   "cell_type": "code",
   "execution_count": 16,
   "metadata": {},
   "outputs": [
    {
     "name": "stdout",
     "output_type": "stream",
     "text": [
      "0.985130808023397 [] {'C': 0.001, '__space__model': 'sklearn.linear_model._logistic.LogisticRegression', 'random_state': 0}\n"
     ]
    }
   ],
   "source": [
    "for r in result:\n",
    "    print(r.metric, r.trial.keys, r.trial.params)"
   ]
  },
  {
   "cell_type": "markdown",
   "metadata": {},
   "source": [
    "## *Modeling*"
   ]
  },
  {
   "cell_type": "code",
   "execution_count": 17,
   "metadata": {},
   "outputs": [],
   "source": [
    "X = df.drop('DEP_DEL15', axis = 1)\n",
    "y = df['DEP_DEL15']"
   ]
  },
  {
   "cell_type": "markdown",
   "metadata": {},
   "source": [
    "### *Train-Test Split*"
   ]
  },
  {
   "cell_type": "code",
   "execution_count": 18,
   "metadata": {},
   "outputs": [
    {
     "name": "stdout",
     "output_type": "stream",
     "text": [
      "Wall time: 6.37 ms\n"
     ]
    }
   ],
   "source": [
    "# Splitting the data\n",
    "from dask_ml.model_selection import train_test_split\n",
    "%time X_train, X_test, y_train, y_test = train_test_split(X, y, test_size = 0.30, random_state=42, shuffle=True)"
   ]
  },
  {
   "cell_type": "markdown",
   "metadata": {},
   "source": [
    "### *Standardization*"
   ]
  },
  {
   "cell_type": "code",
   "execution_count": 19,
   "metadata": {},
   "outputs": [
    {
     "name": "stdout",
     "output_type": "stream",
     "text": [
      "Wall time: 5.33 s\n",
      "Wall time: 13 ms\n"
     ]
    }
   ],
   "source": [
    "# Standardize data before modeling\n",
    "from dask_ml.preprocessing import StandardScaler\n",
    "sc = StandardScaler()\n",
    "%time X_train = sc.fit_transform(X_train)\n",
    "%time X_test = sc.transform(X_test)"
   ]
  },
  {
   "cell_type": "code",
   "execution_count": 20,
   "metadata": {},
   "outputs": [
    {
     "name": "stdout",
     "output_type": "stream",
     "text": [
      "Wall time: 4.53 s\n",
      "Wall time: 4.57 s\n",
      "Wall time: 3.26 s\n",
      "Wall time: 3.45 s\n"
     ]
    }
   ],
   "source": [
    "%time X_train = X_train.persist()\n",
    "%time X_test = X_test.persist()\n",
    "%time y_train = y_train.persist()\n",
    "%time y_test = y_test.persist()"
   ]
  },
  {
   "cell_type": "code",
   "execution_count": 21,
   "metadata": {},
   "outputs": [
    {
     "data": {
      "text/plain": [
       "dask.dataframe.core.DataFrame"
      ]
     },
     "execution_count": 21,
     "metadata": {},
     "output_type": "execute_result"
    }
   ],
   "source": [
    "type(X_train)"
   ]
  },
  {
   "cell_type": "markdown",
   "metadata": {},
   "source": [
    "### *Logistic Regression*"
   ]
  },
  {
   "cell_type": "code",
   "execution_count": 22,
   "metadata": {},
   "outputs": [],
   "source": [
    "# start a local Dask client\n",
    "client1 = Client(n_workers=4, \n",
    "                threads_per_worker=2,\n",
    "                memory_limit='128GB') "
   ]
  },
  {
   "cell_type": "code",
   "execution_count": 23,
   "metadata": {},
   "outputs": [
    {
     "data": {
      "text/html": [
       "<table style=\"border: 2px solid white;\">\n",
       "<tr>\n",
       "<td style=\"vertical-align: top; border: 0px solid white\">\n",
       "<h3 style=\"text-align: left;\">Client</h3>\n",
       "<ul style=\"text-align: left; list-style: none; margin: 0; padding: 0;\">\n",
       "  <li><b>Scheduler: </b>tcp://127.0.0.1:50341</li>\n",
       "  <li><b>Dashboard: </b><a href='http://127.0.0.1:8787/status' target='_blank'>http://127.0.0.1:8787/status</a></li>\n",
       "</ul>\n",
       "</td>\n",
       "<td style=\"vertical-align: top; border: 0px solid white\">\n",
       "<h3 style=\"text-align: left;\">Cluster</h3>\n",
       "<ul style=\"text-align: left; list-style:none; margin: 0; padding: 0;\">\n",
       "  <li><b>Workers: </b>4</li>\n",
       "  <li><b>Cores: </b>8</li>\n",
       "  <li><b>Memory: </b>67.66 GB</li>\n",
       "</ul>\n",
       "</td>\n",
       "</tr>\n",
       "</table>"
      ],
      "text/plain": [
       "<Client: 'tcp://127.0.0.1:50341' processes=4 threads=8, memory=67.66 GB>"
      ]
     },
     "execution_count": 23,
     "metadata": {},
     "output_type": "execute_result"
    }
   ],
   "source": [
    "client1"
   ]
  },
  {
   "cell_type": "code",
   "execution_count": 24,
   "metadata": {},
   "outputs": [
    {
     "name": "stdout",
     "output_type": "stream",
     "text": [
      "Wall time: 1min 12s\n"
     ]
    }
   ],
   "source": [
    "import joblib\n",
    "from sklearn.linear_model import LogisticRegression\n",
    "from dask_ml.model_selection import GridSearchCV\n",
    "from sklearn.decomposition import PCA\n",
    "from sklearn.pipeline import Pipeline\n",
    "\n",
    "\n",
    "lr = LogisticRegression(class_weight = 'balanced')\n",
    "pca = PCA()\n",
    "pipe = Pipeline(steps=[('pca', pca),\n",
    "                       ('lr', lr)])\n",
    "\n",
    "# Create the grid parameters 'lr__penalty': ['l1', 'l2'],\n",
    "params = { \n",
    "    'pca__n_components': [2, 5, 15],\n",
    "    'lr__C':[0.001,0.01, 0.1, 1]\n",
    "}\n",
    "\n",
    "\n",
    "lr_grid = GridSearchCV(pipe, params, n_jobs = -1)\n",
    "\n",
    "\n",
    "with joblib.parallel_backend('dask'):\n",
    "    %time _ = lr_grid.fit(X_train, y_train)"
   ]
  },
  {
   "cell_type": "code",
   "execution_count": 25,
   "metadata": {},
   "outputs": [],
   "source": [
    "client1.close()"
   ]
  },
  {
   "cell_type": "code",
   "execution_count": 26,
   "metadata": {},
   "outputs": [
    {
     "data": {
      "text/plain": [
       "{'lr__C': 0.001, 'pca__n_components': 15}"
      ]
     },
     "execution_count": 26,
     "metadata": {},
     "output_type": "execute_result"
    }
   ],
   "source": [
    "lr_grid.best_params_"
   ]
  },
  {
   "cell_type": "code",
   "execution_count": 27,
   "metadata": {},
   "outputs": [],
   "source": [
    "lr_grid_best = lr_grid.best_estimator_"
   ]
  },
  {
   "cell_type": "code",
   "execution_count": 28,
   "metadata": {},
   "outputs": [
    {
     "name": "stdout",
     "output_type": "stream",
     "text": [
      "Train Average Precision Score:0.9762077479953936\n",
      "Test Average Precision Score:0.9766635075775008\n"
     ]
    }
   ],
   "source": [
    "# Calculating average precision score for X_train\n",
    "apc_lr_train = average_precision_score(y_train, lr_grid_best.predict_proba(X_train)[:, 1])\n",
    "\n",
    "# Calculating average precision score for X_test\n",
    "apc_lr_test = average_precision_score(y_test, lr_grid_best.predict_proba(X_test)[:, 1])\n",
    "\n",
    "print(f'Train Average Precision Score:{apc_lr_train}')\n",
    "print(f'Test Average Precision Score:{apc_lr_test}')"
   ]
  },
  {
   "cell_type": "code",
   "execution_count": 29,
   "metadata": {},
   "outputs": [
    {
     "data": {
      "text/plain": [
       "Text(0.5, 1.0, '2-class Precision-Recall curve: AP=0.98')"
      ]
     },
     "execution_count": 29,
     "metadata": {},
     "output_type": "execute_result"
    },
    {
     "data": {
      "image/png": "[encoded data removed]",
      "text/plain": [
       "<Figure size 432x288 with 1 Axes>"
      ]
     },
     "metadata": {
      "needs_background": "light"
     },
     "output_type": "display_data"
    }
   ],
   "source": [
    "disp = plot_precision_recall_curve(lr_grid_best, X_test, y_test)\n",
    "disp.ax_.set_title('2-class Precision-Recall curve: '\n",
    "                   'AP={0:0.2f}'.format(apc_lr_test))"
   ]
  },
  {
   "cell_type": "code",
   "execution_count": 30,
   "metadata": {},
   "outputs": [
    {
     "name": "stdout",
     "output_type": "stream",
     "text": [
      "Train AUC Score:0.9815526852835141\n",
      "Test AUC Score:0.981894144366036\n"
     ]
    }
   ],
   "source": [
    "# Calculating average precision score for X_train\n",
    "y_pred_lr_train = lr_grid_best.predict(X_train)\n",
    "fpr_lr_train, tpr_lr_train, thresholds_lr_train = roc_curve(y_train, y_pred_lr_train)\n",
    "auc_lr_train = auc(fpr_lr_train, tpr_lr_train)\n",
    "\n",
    "# Calculating average precision score for X_test\n",
    "y_pred_lr_test = lr_grid_best.predict(X_test)\n",
    "fpr_lr_test, tpr_lr_test, thresholds_lr_test = roc_curve(y_test, y_pred_lr_test)\n",
    "auc_lr_test = auc(fpr_lr_test, tpr_lr_test)                                                       \n",
    "\n",
    "print(f'Train AUC Score:{auc_lr_train}')\n",
    "print(f'Test AUC Score:{auc_lr_test}')"
   ]
  },
  {
   "cell_type": "code",
   "execution_count": 31,
   "metadata": {},
   "outputs": [
    {
     "data": {
      "image/png": "[encoded data removed]",
      "text/plain": [
       "<Figure size 576x432 with 1 Axes>"
      ]
     },
     "metadata": {
      "needs_background": "light"
     },
     "output_type": "display_data"
    }
   ],
   "source": [
    "plt.figure(figsize = (8, 6))\n",
    "lw = 2\n",
    "plt.plot(fpr_lr_test, tpr_lr_test, color='darkorange',\n",
    "         lw=lw, label='ROC curve (area = %0.2f)' %auc_lr_test)\n",
    "plt.plot([0, 1], [0, 1], color='navy', lw=lw, linestyle='--')\n",
    "plt.xlim([0.0, 1.0])\n",
    "plt.ylim([0.0, 1.05])\n",
    "plt.xlabel('False Positive Rate')\n",
    "plt.ylabel('True Positive Rate')\n",
    "plt.title('Receiver operating characteristic example')\n",
    "plt.legend(loc=\"lower right\")\n",
    "plt.show()"
   ]
  },
  {
   "cell_type": "code",
   "execution_count": 32,
   "metadata": {},
   "outputs": [
    {
     "data": {
      "image/png": "[encoded data removed]",
      "text/plain": [
       "<Figure size 432x432 with 2 Axes>"
      ]
     },
     "metadata": {
      "needs_background": "light"
     },
     "output_type": "display_data"
    }
   ],
   "source": [
    "fig, ax = plt.subplots(figsize = (6,6))\n",
    "plt.rcParams.update({'font.size': 16})\n",
    "plot_confusion_matrix(lr_grid_best, X_test, y_test, cmap=plt.cm.Blues, ax = ax, values_format = '') \n",
    "plt.show()"
   ]
  },
  {
   "cell_type": "code",
   "execution_count": 33,
   "metadata": {},
   "outputs": [
    {
     "name": "stdout",
     "output_type": "stream",
     "text": [
      "              precision    recall  f1-score   support\n",
      "\n",
      "         0.0       1.00      0.97      0.98    415851\n",
      "         1.0       0.88      0.99      0.94     94359\n",
      "\n",
      "    accuracy                           0.97    510210\n",
      "   macro avg       0.94      0.98      0.96    510210\n",
      "weighted avg       0.98      0.97      0.98    510210\n",
      "\n"
     ]
    }
   ],
   "source": [
    "print(classification_report(y_test, y_pred_lr_test))"
   ]
  },
  {
   "cell_type": "code",
   "execution_count": 34,
   "metadata": {},
   "outputs": [
    {
     "data": {
      "text/plain": [
       "0.9946896871182194"
      ]
     },
     "execution_count": 34,
     "metadata": {},
     "output_type": "execute_result"
    }
   ],
   "source": [
    "roc_auc_score(y_test, lr_grid_best.predict_proba(X_test)[:, 1])"
   ]
  },
  {
   "cell_type": "markdown",
   "metadata": {},
   "source": [
    "### *RandomForestClassifier*"
   ]
  },
  {
   "cell_type": "code",
   "execution_count": 35,
   "metadata": {},
   "outputs": [],
   "source": [
    "# start a local Dask client\n",
    "client = Client(n_workers=4,\n",
    "                threads_per_worker=2,\n",
    "                memory_limit='128GB') "
   ]
  },
  {
   "cell_type": "code",
   "execution_count": 36,
   "metadata": {},
   "outputs": [
    {
     "data": {
      "text/html": [
       "<table style=\"border: 2px solid white;\">\n",
       "<tr>\n",
       "<td style=\"vertical-align: top; border: 0px solid white\">\n",
       "<h3 style=\"text-align: left;\">Client</h3>\n",
       "<ul style=\"text-align: left; list-style: none; margin: 0; padding: 0;\">\n",
       "  <li><b>Scheduler: </b>tcp://127.0.0.1:50436</li>\n",
       "  <li><b>Dashboard: </b><a href='http://127.0.0.1:8787/status' target='_blank'>http://127.0.0.1:8787/status</a></li>\n",
       "</ul>\n",
       "</td>\n",
       "<td style=\"vertical-align: top; border: 0px solid white\">\n",
       "<h3 style=\"text-align: left;\">Cluster</h3>\n",
       "<ul style=\"text-align: left; list-style:none; margin: 0; padding: 0;\">\n",
       "  <li><b>Workers: </b>4</li>\n",
       "  <li><b>Cores: </b>8</li>\n",
       "  <li><b>Memory: </b>67.66 GB</li>\n",
       "</ul>\n",
       "</td>\n",
       "</tr>\n",
       "</table>"
      ],
      "text/plain": [
       "<Client: 'tcp://127.0.0.1:50436' processes=4 threads=8, memory=67.66 GB>"
      ]
     },
     "execution_count": 36,
     "metadata": {},
     "output_type": "execute_result"
    }
   ],
   "source": [
    "client #client.get_versions(check=True)"
   ]
  },
  {
   "cell_type": "code",
   "execution_count": 37,
   "metadata": {},
   "outputs": [
    {
     "name": "stdout",
     "output_type": "stream",
     "text": [
      "Wall time: 4h 46min 4s\n"
     ]
    }
   ],
   "source": [
    "import dask_ml.model_selection as dcv\n",
    "from sklearn.ensemble import RandomForestClassifier\n",
    "from sklearn.decomposition import PCA\n",
    "from sklearn.pipeline import Pipeline\n",
    "\n",
    "\n",
    "rf = RandomForestClassifier(class_weight = 'balanced')\n",
    "pca = PCA()\n",
    "pipe = Pipeline(steps=[('pca', pca),\n",
    "                       ('rf', rf)])\n",
    "\n",
    "# Create the parameter grid based on the results of random search 'bootstrap': [True, False],\n",
    "params = {\n",
    "    'pca__n_components': [5, 10],\n",
    "    'rf__max_depth': [5, 8],\n",
    "    'rf__min_samples_leaf': [2, 5],\n",
    "    'rf__min_samples_split': [2, 5],\n",
    "    'rf__n_estimators': [100, 200, 300]}\n",
    "\n",
    "\n",
    "rf_grid = dcv.GridSearchCV(pipe, params, cv = 3, n_jobs = -1)\n",
    "\n",
    "import joblib\n",
    "with joblib.parallel_backend('dask'):\n",
    "    %time rf_grid.fit(X_train, y_train)"
   ]
  },
  {
   "cell_type": "code",
   "execution_count": 38,
   "metadata": {},
   "outputs": [],
   "source": [
    "client.close()"
   ]
  },
  {
   "cell_type": "code",
   "execution_count": 39,
   "metadata": {
    "scrolled": true
   },
   "outputs": [
    {
     "data": {
      "text/plain": [
       "{'pca__n_components': 10,\n",
       " 'rf__max_depth': 8,\n",
       " 'rf__min_samples_leaf': 2,\n",
       " 'rf__min_samples_split': 2,\n",
       " 'rf__n_estimators': 300}"
      ]
     },
     "execution_count": 39,
     "metadata": {},
     "output_type": "execute_result"
    }
   ],
   "source": [
    "rf_grid.best_params_"
   ]
  },
  {
   "cell_type": "code",
   "execution_count": 40,
   "metadata": {},
   "outputs": [],
   "source": [
    "rf_grid_best = rf_grid.best_estimator_"
   ]
  },
  {
   "cell_type": "code",
   "execution_count": 41,
   "metadata": {},
   "outputs": [
    {
     "name": "stdout",
     "output_type": "stream",
     "text": [
      "Train Average Precision Score:0.9760825316106331\n",
      "Test Average Precision Score:0.9756075484448355\n"
     ]
    }
   ],
   "source": [
    "# Calculating average precision score for X_train\n",
    "apc_rf_train = average_precision_score(y_train, rf_grid_best.predict_proba(X_train)[:, 1])\n",
    "\n",
    "# Calculating average precision score for X_test\n",
    "apc_rf_test = average_precision_score(y_test, rf_grid_best.predict_proba(X_test)[:, 1])\n",
    "\n",
    "print(f'Train Average Precision Score:{apc_rf_train}')\n",
    "print(f'Test Average Precision Score:{apc_rf_test}')"
   ]
  },
  {
   "cell_type": "code",
   "execution_count": 42,
   "metadata": {},
   "outputs": [
    {
     "data": {
      "text/plain": [
       "Text(0.5, 1.0, '2-class Precision-Recall curve: AP=0.98')"
      ]
     },
     "execution_count": 42,
     "metadata": {},
     "output_type": "execute_result"
    },
    {
     "data": {
      "image/png": "[encoded data removed]",
      "text/plain": [
       "<Figure size 432x288 with 1 Axes>"
      ]
     },
     "metadata": {
      "needs_background": "light"
     },
     "output_type": "display_data"
    }
   ],
   "source": [
    "disp = plot_precision_recall_curve(rf_grid_best, X_test, y_test)\n",
    "disp.ax_.set_title('2-class Precision-Recall curve: '\n",
    "                   'AP={0:0.2f}'.format(apc_rf_test))"
   ]
  },
  {
   "cell_type": "code",
   "execution_count": 43,
   "metadata": {},
   "outputs": [
    {
     "name": "stdout",
     "output_type": "stream",
     "text": [
      "Train AUC Score:0.9615161517591804\n",
      "Test AUC Score:0.9610676732612287\n"
     ]
    }
   ],
   "source": [
    "# Calculating AUC score for X_train\n",
    "y_pred_rf_train = rf_grid_best.predict(X_train)\n",
    "fpr_rf_train, tpr_rf_train, thresholds_rf_train = roc_curve(y_train, y_pred_rf_train)\n",
    "auc_rf_train = auc(fpr_rf_train, tpr_rf_train)\n",
    "\n",
    "# Calculating AUC score for X_test\n",
    "y_pred_rf_test = rf_grid_best.predict(X_test)\n",
    "fpr_rf_test, tpr_rf_test, thresholds_rf_test = roc_curve(y_test, y_pred_rf_test)\n",
    "auc_rf_test = auc(fpr_rf_test, tpr_rf_test)                                                       \n",
    "\n",
    "print(f'Train AUC Score:{auc_rf_train}')\n",
    "print(f'Test AUC Score:{auc_rf_test}')"
   ]
  },
  {
   "cell_type": "code",
   "execution_count": 44,
   "metadata": {},
   "outputs": [
    {
     "data": {
      "image/png": "[encoded data removed]",
      "text/plain": [
       "<Figure size 576x432 with 1 Axes>"
      ]
     },
     "metadata": {
      "needs_background": "light"
     },
     "output_type": "display_data"
    }
   ],
   "source": [
    "plt.figure(figsize = (8, 6))\n",
    "lw = 2\n",
    "plt.plot(fpr_rf_test, tpr_rf_test, color='darkorange',\n",
    "         lw=lw, label='ROC curve (area = %0.2f)' %auc_rf_test)\n",
    "plt.plot([0, 1], [0, 1], color='navy', lw=lw, linestyle='--')\n",
    "plt.xlim([0.0, 1.0])\n",
    "plt.ylim([0.0, 1.05])\n",
    "plt.xlabel('False Positive Rate')\n",
    "plt.ylabel('True Positive Rate')\n",
    "plt.title('Receiver operating characteristic example')\n",
    "plt.legend(loc=\"lower right\")\n",
    "plt.show()"
   ]
  },
  {
   "cell_type": "code",
   "execution_count": 45,
   "metadata": {},
   "outputs": [
    {
     "data": {
      "image/png": "[encoded data removed]",
      "text/plain": [
       "<Figure size 432x432 with 2 Axes>"
      ]
     },
     "metadata": {
      "needs_background": "light"
     },
     "output_type": "display_data"
    }
   ],
   "source": [
    "fig, ax = plt.subplots(figsize = (6,6))\n",
    "plt.rcParams.update({'font.size': 16})\n",
    "plot_confusion_matrix(rf_grid_best, X_test, y_test, cmap=plt.cm.Blues, ax = ax, values_format = '') \n",
    "plt.show()"
   ]
  },
  {
   "cell_type": "code",
   "execution_count": 46,
   "metadata": {},
   "outputs": [
    {
     "name": "stdout",
     "output_type": "stream",
     "text": [
      "              precision    recall  f1-score   support\n",
      "\n",
      "         0.0       0.99      0.97      0.98    415851\n",
      "         1.0       0.86      0.96      0.91     94359\n",
      "\n",
      "    accuracy                           0.96    510210\n",
      "   macro avg       0.93      0.96      0.94    510210\n",
      "weighted avg       0.97      0.96      0.96    510210\n",
      "\n"
     ]
    }
   ],
   "source": [
    "print(classification_report(y_test, y_pred_rf_test))"
   ]
  },
  {
   "cell_type": "code",
   "execution_count": 47,
   "metadata": {},
   "outputs": [
    {
     "data": {
      "text/plain": [
       "0.994194696211962"
      ]
     },
     "execution_count": 47,
     "metadata": {},
     "output_type": "execute_result"
    }
   ],
   "source": [
    "roc_auc_score(y_test, rf_grid_best.predict_proba(X_test)[:, 1])"
   ]
  },
  {
   "cell_type": "markdown",
   "metadata": {},
   "source": [
    "### *AdaBoostClassifier*"
   ]
  },
  {
   "cell_type": "code",
   "execution_count": 48,
   "metadata": {},
   "outputs": [],
   "source": [
    "# start a local Dask client\n",
    "client3 = Client(n_workers=4, \n",
    "                threads_per_worker=2,\n",
    "                memory_limit='128GB') "
   ]
  },
  {
   "cell_type": "code",
   "execution_count": 49,
   "metadata": {},
   "outputs": [
    {
     "data": {
      "text/html": [
       "<table style=\"border: 2px solid white;\">\n",
       "<tr>\n",
       "<td style=\"vertical-align: top; border: 0px solid white\">\n",
       "<h3 style=\"text-align: left;\">Client</h3>\n",
       "<ul style=\"text-align: left; list-style: none; margin: 0; padding: 0;\">\n",
       "  <li><b>Scheduler: </b>tcp://127.0.0.1:52651</li>\n",
       "  <li><b>Dashboard: </b><a href='http://127.0.0.1:8787/status' target='_blank'>http://127.0.0.1:8787/status</a></li>\n",
       "</ul>\n",
       "</td>\n",
       "<td style=\"vertical-align: top; border: 0px solid white\">\n",
       "<h3 style=\"text-align: left;\">Cluster</h3>\n",
       "<ul style=\"text-align: left; list-style:none; margin: 0; padding: 0;\">\n",
       "  <li><b>Workers: </b>4</li>\n",
       "  <li><b>Cores: </b>8</li>\n",
       "  <li><b>Memory: </b>67.66 GB</li>\n",
       "</ul>\n",
       "</td>\n",
       "</tr>\n",
       "</table>"
      ],
      "text/plain": [
       "<Client: 'tcp://127.0.0.1:52651' processes=4 threads=8, memory=67.66 GB>"
      ]
     },
     "execution_count": 49,
     "metadata": {},
     "output_type": "execute_result"
    }
   ],
   "source": [
    "client3"
   ]
  },
  {
   "cell_type": "code",
   "execution_count": 50,
   "metadata": {},
   "outputs": [
    {
     "name": "stdout",
     "output_type": "stream",
     "text": [
      "Wall time: 31min 56s\n"
     ]
    }
   ],
   "source": [
    "import dask_ml.model_selection as dcv\n",
    "from sklearn.ensemble import AdaBoostClassifier\n",
    "\n",
    "ab = AdaBoostClassifier()\n",
    "pca = PCA()\n",
    "pipe = Pipeline(steps=[('pca', pca),\n",
    "                       ('ab', ab)])\n",
    "\n",
    "# Create the parameter grid based on the results of random search 'bootstrap': [True, False],\n",
    "params = {\n",
    "    'pca__n_components': [5, 10],\n",
    "    'ab__learning_rate': [0.5],\n",
    "    'ab__n_estimators': [100, 300]}\n",
    "\n",
    "ab_grid = dcv.GridSearchCV(pipe, params, cv = 3, n_jobs = -1)\n",
    "\n",
    "import joblib\n",
    "with joblib.parallel_backend('dask'):\n",
    "    %time ab_grid.fit(X_train, y_train)"
   ]
  },
  {
   "cell_type": "code",
   "execution_count": 51,
   "metadata": {},
   "outputs": [],
   "source": [
    "client3.close()"
   ]
  },
  {
   "cell_type": "code",
   "execution_count": 52,
   "metadata": {},
   "outputs": [
    {
     "data": {
      "text/plain": [
       "{'ab__learning_rate': 0.5, 'ab__n_estimators': 300, 'pca__n_components': 5}"
      ]
     },
     "execution_count": 52,
     "metadata": {},
     "output_type": "execute_result"
    }
   ],
   "source": [
    "ab_grid.best_params_"
   ]
  },
  {
   "cell_type": "code",
   "execution_count": 53,
   "metadata": {},
   "outputs": [],
   "source": [
    "ab_grid_best = ab_grid.best_estimator_"
   ]
  },
  {
   "cell_type": "code",
   "execution_count": 54,
   "metadata": {},
   "outputs": [
    {
     "name": "stdout",
     "output_type": "stream",
     "text": [
      "Train Average Precision Score:0.971413799041554\n",
      "Test Average Precision Score:0.9713627876276545\n"
     ]
    }
   ],
   "source": [
    "# Calculating average precision score for X_train\n",
    "apc_ab_train = average_precision_score(y_train, ab_grid_best.predict_proba(X_train)[:, 1])\n",
    "\n",
    "# Calculating average precision score for X_test\n",
    "apc_ab_test = average_precision_score(y_test, ab_grid_best.predict_proba(X_test)[:, 1])\n",
    "\n",
    "print(f'Train Average Precision Score:{apc_ab_train}')\n",
    "print(f'Test Average Precision Score:{apc_ab_test}')"
   ]
  },
  {
   "cell_type": "code",
   "execution_count": 55,
   "metadata": {},
   "outputs": [
    {
     "data": {
      "text/plain": [
       "Text(0.5, 1.0, '2-class Precision-Recall curve: AP=0.97')"
      ]
     },
     "execution_count": 55,
     "metadata": {},
     "output_type": "execute_result"
    },
    {
     "data": {
      "image/png": "[encoded data removed]",
      "text/plain": [
       "<Figure size 432x288 with 1 Axes>"
      ]
     },
     "metadata": {
      "needs_background": "light"
     },
     "output_type": "display_data"
    }
   ],
   "source": [
    "disp = plot_precision_recall_curve(ab_grid_best, X_test, y_test)\n",
    "disp.ax_.set_title('2-class Precision-Recall curve: '\n",
    "                   'AP={0:0.2f}'.format(apc_ab_test))"
   ]
  },
  {
   "cell_type": "code",
   "execution_count": 56,
   "metadata": {},
   "outputs": [
    {
     "name": "stdout",
     "output_type": "stream",
     "text": [
      "Train AUC Score:0.9170720174376057\n",
      "Test AUC Score:0.9166597560093142\n"
     ]
    }
   ],
   "source": [
    "# Calculating average precision score for X_train\n",
    "y_pred_ab_train = ab_grid_best.predict(X_train)\n",
    "fpr_ab_train, tpr_ab_train, thresholds_ab_train = roc_curve(y_train, y_pred_ab_train)\n",
    "auc_ab_train = auc(fpr_ab_train, tpr_ab_train)\n",
    "\n",
    "# Calculating average precision score for X_test\n",
    "y_pred_ab_test = ab_grid_best.predict(X_test)\n",
    "fpr_ab_test, tpr_ab_test, thresholds_ab_test = roc_curve(y_test, y_pred_ab_test)\n",
    "auc_ab_test = auc(fpr_ab_test, tpr_ab_test)                                                       \n",
    "\n",
    "print(f'Train AUC Score:{auc_ab_train}')\n",
    "print(f'Test AUC Score:{auc_ab_test}')"
   ]
  },
  {
   "cell_type": "code",
   "execution_count": 57,
   "metadata": {},
   "outputs": [
    {
     "data": {
      "image/png": "[encoded data removed]",
      "text/plain": [
       "<Figure size 576x432 with 1 Axes>"
      ]
     },
     "metadata": {
      "needs_background": "light"
     },
     "output_type": "display_data"
    }
   ],
   "source": [
    "plt.figure(figsize = (8, 6))\n",
    "lw = 2\n",
    "plt.plot(fpr_ab_test, tpr_ab_test, color='darkorange',\n",
    "         lw=lw, label='ROC curve (area = %0.2f)' % auc_ab_test)\n",
    "plt.plot([0, 1], [0, 1], color='navy', lw=lw, linestyle='--')\n",
    "plt.xlim([0.0, 1.0])\n",
    "plt.ylim([0.0, 1.05])\n",
    "plt.xlabel('False Positive Rate')\n",
    "plt.ylabel('True Positive Rate')\n",
    "plt.title('Receiver operating characteristic example')\n",
    "plt.legend(loc=\"lower right\")\n",
    "plt.show()"
   ]
  },
  {
   "cell_type": "code",
   "execution_count": 58,
   "metadata": {},
   "outputs": [
    {
     "data": {
      "image/png": "[encoded data removed]",
      "text/plain": [
       "<Figure size 432x432 with 2 Axes>"
      ]
     },
     "metadata": {
      "needs_background": "light"
     },
     "output_type": "display_data"
    }
   ],
   "source": [
    "fig, ax = plt.subplots(figsize = (6,6))\n",
    "plt.rcParams.update({'font.size': 16})\n",
    "plot_confusion_matrix(ab_grid_best, X_test, y_test, cmap=plt.cm.Blues, ax = ax, values_format = '') \n",
    "plt.show()"
   ]
  },
  {
   "cell_type": "code",
   "execution_count": 59,
   "metadata": {
    "scrolled": true
   },
   "outputs": [
    {
     "name": "stdout",
     "output_type": "stream",
     "text": [
      "              precision    recall  f1-score   support\n",
      "\n",
      "         0.0       0.97      0.98      0.97    415851\n",
      "         1.0       0.91      0.85      0.88     94359\n",
      "\n",
      "    accuracy                           0.96    510210\n",
      "   macro avg       0.94      0.92      0.93    510210\n",
      "weighted avg       0.96      0.96      0.96    510210\n",
      "\n"
     ]
    }
   ],
   "source": [
    "print(classification_report(y_test, y_pred_ab_test))"
   ]
  },
  {
   "cell_type": "markdown",
   "metadata": {},
   "source": [
    "#### *Avergae Precision Score*"
   ]
  },
  {
   "cell_type": "markdown",
   "metadata": {},
   "source": [
    "| Classifier | Train Score | Test Score |\n",
    "| --- | --- | --- |\n",
    "| BaseLine | 0.186 | 0.186 |\n",
    "| Logistic Resgression | 0.976 | 0.977 |\n",
    "| RandomForestClassifier | 0.976 | 0.976 |\n",
    "| AdaBoostClassifier | 0.9714 | 0.9714 |"
   ]
  },
  {
   "cell_type": "markdown",
   "metadata": {},
   "source": [
    "#### *AUC Score*"
   ]
  },
  {
   "cell_type": "markdown",
   "metadata": {},
   "source": [
    "| Classifier | Train Score | Test Score |\n",
    "| --- | --- | --- |\n",
    "| Logistic Resgression | 0.9815 | 0.9819 |\n",
    "| RandomForestClassifier | 0.9615 | 0.9611 |\n",
    "| AdaBoostClassifier | 0.9170 | 0.9166 |"
   ]
  },
  {
   "cell_type": "markdown",
   "metadata": {},
   "source": [
    "All the models used to train the data have outperformed the base line. The best suggested model by using Tune and Sask is is Logistic Regression."
   ]
  },
  {
   "cell_type": "code",
   "execution_count": 63,
   "metadata": {},
   "outputs": [
    {
     "data": {
      "image/png": "[encoded data removed]",
      "text/plain": [
       "<Figure size 648x648 with 1 Axes>"
      ]
     },
     "metadata": {
      "needs_background": "light"
     },
     "output_type": "display_data"
    }
   ],
   "source": [
    "model = lr_grid_best.steps[0][1]\n",
    "n_pcs= model.components_.shape[0]\n",
    "\n",
    "initial_feature_names = X_train.columns\n",
    "\n",
    "most_important = [np.abs(model.components_[i]).argmax() for i in range(n_pcs)]\n",
    "most_important_names = [initial_feature_names[most_important[i]] for i in range(n_pcs)]\n",
    "\n",
    "zipped_feats = zip(most_important_names, lr_grid_best.steps[1][1].coef_.tolist()[0])\n",
    "zipped_feats = sorted(zipped_feats, key=lambda x: x[1], reverse=True)\n",
    "\n",
    "features, importances = zip(*zipped_feats)\n",
    "\n",
    "top_features = features[:15]\n",
    "top_importances = importances[:15]\n",
    "\n",
    "plt.figure(figsize = (9, 9))\n",
    "plt.title('Feature Importances')\n",
    "plt.barh(range(len(top_importances)), top_importances, color='b', align='center')\n",
    "plt.yticks(range(len(top_importances)), top_features)\n",
    "plt.xlabel('Relative Importance')\n",
    "plt.show()"
   ]
  },
  {
   "cell_type": "markdown",
   "metadata": {},
   "source": [
    "Conclusions:\n",
    "\n",
    "The dataset used for the project contains local flight data for the months January, February and March for the year 2019, does not take into considerations any weather conditions or natural calamities into account. \n",
    "\n",
    "Next Steps:\n",
    "\n",
    "we plan to identify the significance of each feature by using stats models. Also, according to the Federal Aviation Administration, most of the delays in winter are due to surface winds, low ceiling and low visibility, whereas during summer the majority of delays is attributable to convective weather, low ceiling and associated low visibility (Federal Aviation Administration, 2017). It will be wise to include daily weather data, like wind, speed and precipitation rate, for each origin and destination location for each flight."
   ]
  }
 ],
 "metadata": {
  "kernelspec": {
   "display_name": "Python 3",
   "language": "python",
   "name": "python3"
  },
  "language_info": {
   "codemirror_mode": {
    "name": "ipython",
    "version": 3
   },
   "file_extension": ".py",
   "mimetype": "text/x-python",
   "name": "python",
   "nbconvert_exporter": "python",
   "pygments_lexer": "ipython3",
   "version": "3.8.5"
  }
 },
 "nbformat": 4,
 "nbformat_minor": 4
}
